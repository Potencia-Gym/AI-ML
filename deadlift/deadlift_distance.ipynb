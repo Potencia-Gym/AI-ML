{
 "cells": [
  {
   "cell_type": "code",
   "execution_count": 2,
   "metadata": {},
   "outputs": [],
   "source": [
    "import mediapipe as mp\n",
    "import cv2\n",
    "import numpy as np"
   ]
  },
  {
   "cell_type": "code",
   "execution_count": 3,
   "metadata": {},
   "outputs": [],
   "source": [
    "mp_drawing = mp.solutions.drawing_utils\n",
    "mp_pose = mp.solutions.pose"
   ]
  },
  {
   "cell_type": "markdown",
   "metadata": {},
   "source": [
    "Saving the Video"
   ]
  },
  {
   "cell_type": "code",
   "execution_count": 4,
   "metadata": {},
   "outputs": [],
   "source": [
    "import time\n",
    "cap = cv2.VideoCapture(0)\n",
    "time.sleep(5)\n",
    "height = cap.get(cv2.CAP_PROP_FRAME_HEIGHT)\n",
    "width = cap.get(cv2.CAP_PROP_FRAME_WIDTH)\n",
    "fps = cap.get(cv2.CAP_PROP_FPS)\n",
    "fourcc = cv2.VideoWriter_fourcc('P','I','M','1')\n",
    "videoWriter = cv2.VideoWriter('distance.avi',fourcc,fps,(int(width),int(height)))\n",
    "\n",
    "while cap.isOpened():\n",
    "    ret,frame = cap.read()\n",
    "\n",
    "    try:\n",
    "        cv2.imshow('Press',frame)\n",
    "        videoWriter.write(frame)\n",
    "    except Exception as e:\n",
    "        print(e)\n",
    "        break\n",
    "    if cv2.waitKey(10) & 0xFF == ord('q'):\n",
    "        break\n",
    "cap.release()\n",
    "videoWriter.release()\n",
    "cv2.destroyAllWindows()"
   ]
  },
  {
   "cell_type": "markdown",
   "metadata": {},
   "source": [
    "Capturing Landmarks and Saving it to CSV"
   ]
  },
  {
   "cell_type": "code",
   "execution_count": 5,
   "metadata": {},
   "outputs": [],
   "source": [
    "import csv\n",
    "import os\n",
    "import numpy as np\n",
    "import matplotlib.pyplot as plt"
   ]
  },
  {
   "cell_type": "code",
   "execution_count": 6,
   "metadata": {},
   "outputs": [],
   "source": [
    "landmarks = ['class']  # Class is Y - target value\n",
    "for val in range(1,33+1):\n",
    "    landmarks+=['x{}'.format(val),'y{}'.format(val),'z{}'.format(val),'v{}'.format(val)]"
   ]
  },
  {
   "cell_type": "code",
   "execution_count": 10,
   "metadata": {},
   "outputs": [],
   "source": [
    "with open('distance.csv',mode='w',newline='') as f:\n",
    "    csv_writer = csv.writer(f,delimiter=',',quotechar='\"',quoting=csv.QUOTE_MINIMAL)\n",
    "    csv_writer.writerow(landmarks)"
   ]
  },
  {
   "cell_type": "code",
   "execution_count": 11,
   "metadata": {},
   "outputs": [],
   "source": [
    "# Function for exporting the landmarks to train\n",
    "def export_landmark(results,action):\n",
    "    try:\n",
    "        keypoints = np.array([[res.x,res.y,res.z,res.visibility] for res in results.pose_landmarks.landmark]).flatten()\n",
    "        keypoints = np.insert(keypoints,0,action)\n",
    "\n",
    "        with open('distance.csv',mode='a',newline='') as f: # a stands for append\n",
    "            csv_writer = csv.writer(f,delimiter=',',quotechar='\"',quoting=csv.QUOTE_MINIMAL)\n",
    "            csv_writer.writerow(keypoints)\n",
    "    except Exception as e:\n",
    "        print(e)\n",
    "        pass"
   ]
  },
  {
   "cell_type": "code",
   "execution_count": 12,
   "metadata": {},
   "outputs": [],
   "source": [
    "cap = cv2.VideoCapture('distance.avi')\n",
    "# initiate the holistic model\n",
    "with mp_pose.Pose(min_detection_confidence=0.5,min_tracking_confidence=0.5) as pose:\n",
    "    while cap.isOpened():\n",
    "        ret,image = cap.read()\n",
    "        # Recolor the feed\n",
    "        if image is None: break\n",
    "        image = cv2.cvtColor(image,cv2.COLOR_BGR2RGB)\n",
    "        image.flags.writeable = False\n",
    "\n",
    "        # Make Detections\n",
    "        results = pose.process(image)\n",
    "\n",
    "        # Recoloring the image back for rendering\n",
    "        image.flags.writeable = True\n",
    "        image = cv2.cvtColor(image,cv2.COLOR_RGB2BGR)\n",
    "\n",
    "        mp_drawing.draw_landmarks(image,results.pose_landmarks,mp_pose.POSE_CONNECTIONS\n",
    "                                  , mp_drawing.DrawingSpec(color=(245,117,66),thickness=2,circle_radius=4),\n",
    "                                  mp_drawing.DrawingSpec(color=(245,66,230),thickness=2,circle_radius=2))\n",
    "        \n",
    "        k = cv2.waitKey(1)\n",
    "        if k==97: # a key \n",
    "            export_landmark(results,0) # 0 -> narrow \n",
    "        if k==115:# s key\n",
    "            export_landmark(results,1) # 1 -> correct\n",
    "        if k==100:# d key\n",
    "            export_landmark(results,2) # 2 -> wide\n",
    "\n",
    "        cv2.imshow('Raw Cam Feed',image)\n",
    "        if cv2.waitKey(10) & 0xFF == ord('q'):\n",
    "            break\n",
    "\n",
    "cap.release()\n",
    "cv2.destroyAllWindows()"
   ]
  },
  {
   "cell_type": "markdown",
   "metadata": {},
   "source": [
    "Training the labelled Data on a Classification Model"
   ]
  },
  {
   "cell_type": "code",
   "execution_count": 15,
   "metadata": {},
   "outputs": [],
   "source": [
    "import pandas as pd\n",
    "from sklearn.model_selection import train_test_split"
   ]
  },
  {
   "cell_type": "code",
   "execution_count": 17,
   "metadata": {},
   "outputs": [
    {
     "data": {
      "text/html": [
       "<div>\n",
       "<style scoped>\n",
       "    .dataframe tbody tr th:only-of-type {\n",
       "        vertical-align: middle;\n",
       "    }\n",
       "\n",
       "    .dataframe tbody tr th {\n",
       "        vertical-align: top;\n",
       "    }\n",
       "\n",
       "    .dataframe thead th {\n",
       "        text-align: right;\n",
       "    }\n",
       "</style>\n",
       "<table border=\"1\" class=\"dataframe\">\n",
       "  <thead>\n",
       "    <tr style=\"text-align: right;\">\n",
       "      <th></th>\n",
       "      <th>class</th>\n",
       "      <th>x1</th>\n",
       "      <th>y1</th>\n",
       "      <th>z1</th>\n",
       "      <th>v1</th>\n",
       "      <th>x2</th>\n",
       "      <th>y2</th>\n",
       "      <th>z2</th>\n",
       "      <th>v2</th>\n",
       "      <th>x3</th>\n",
       "      <th>...</th>\n",
       "      <th>z31</th>\n",
       "      <th>v31</th>\n",
       "      <th>x32</th>\n",
       "      <th>y32</th>\n",
       "      <th>z32</th>\n",
       "      <th>v32</th>\n",
       "      <th>x33</th>\n",
       "      <th>y33</th>\n",
       "      <th>z33</th>\n",
       "      <th>v33</th>\n",
       "    </tr>\n",
       "  </thead>\n",
       "  <tbody>\n",
       "    <tr>\n",
       "      <th>0</th>\n",
       "      <td>2.0</td>\n",
       "      <td>0.723751</td>\n",
       "      <td>-0.049298</td>\n",
       "      <td>-0.642914</td>\n",
       "      <td>0.999329</td>\n",
       "      <td>0.735183</td>\n",
       "      <td>-0.065842</td>\n",
       "      <td>-0.624667</td>\n",
       "      <td>0.998386</td>\n",
       "      <td>0.738107</td>\n",
       "      <td>...</td>\n",
       "      <td>0.338775</td>\n",
       "      <td>0.756306</td>\n",
       "      <td>0.816191</td>\n",
       "      <td>0.948369</td>\n",
       "      <td>0.062415</td>\n",
       "      <td>0.943334</td>\n",
       "      <td>0.401415</td>\n",
       "      <td>0.922194</td>\n",
       "      <td>0.125347</td>\n",
       "      <td>0.949879</td>\n",
       "    </tr>\n",
       "    <tr>\n",
       "      <th>1</th>\n",
       "      <td>2.0</td>\n",
       "      <td>0.647041</td>\n",
       "      <td>0.013189</td>\n",
       "      <td>-0.746258</td>\n",
       "      <td>0.999486</td>\n",
       "      <td>0.660023</td>\n",
       "      <td>-0.007457</td>\n",
       "      <td>-0.734798</td>\n",
       "      <td>0.998607</td>\n",
       "      <td>0.665897</td>\n",
       "      <td>...</td>\n",
       "      <td>0.191027</td>\n",
       "      <td>0.763103</td>\n",
       "      <td>0.825008</td>\n",
       "      <td>0.940904</td>\n",
       "      <td>-0.041937</td>\n",
       "      <td>0.958081</td>\n",
       "      <td>0.399222</td>\n",
       "      <td>0.918982</td>\n",
       "      <td>-0.012959</td>\n",
       "      <td>0.959239</td>\n",
       "    </tr>\n",
       "    <tr>\n",
       "      <th>2</th>\n",
       "      <td>2.0</td>\n",
       "      <td>0.642887</td>\n",
       "      <td>-0.014336</td>\n",
       "      <td>-0.643614</td>\n",
       "      <td>0.999578</td>\n",
       "      <td>0.656632</td>\n",
       "      <td>-0.016645</td>\n",
       "      <td>-0.640461</td>\n",
       "      <td>0.998849</td>\n",
       "      <td>0.661174</td>\n",
       "      <td>...</td>\n",
       "      <td>0.263745</td>\n",
       "      <td>0.753119</td>\n",
       "      <td>0.818989</td>\n",
       "      <td>0.932040</td>\n",
       "      <td>0.000965</td>\n",
       "      <td>0.965213</td>\n",
       "      <td>0.401244</td>\n",
       "      <td>0.912100</td>\n",
       "      <td>0.076625</td>\n",
       "      <td>0.960741</td>\n",
       "    </tr>\n",
       "    <tr>\n",
       "      <th>3</th>\n",
       "      <td>2.0</td>\n",
       "      <td>0.642500</td>\n",
       "      <td>-0.022484</td>\n",
       "      <td>-0.660777</td>\n",
       "      <td>0.999593</td>\n",
       "      <td>0.657063</td>\n",
       "      <td>-0.028539</td>\n",
       "      <td>-0.656290</td>\n",
       "      <td>0.998995</td>\n",
       "      <td>0.661525</td>\n",
       "      <td>...</td>\n",
       "      <td>0.316265</td>\n",
       "      <td>0.713201</td>\n",
       "      <td>0.808949</td>\n",
       "      <td>0.918164</td>\n",
       "      <td>0.091916</td>\n",
       "      <td>0.969207</td>\n",
       "      <td>0.398415</td>\n",
       "      <td>0.907529</td>\n",
       "      <td>0.114551</td>\n",
       "      <td>0.958177</td>\n",
       "    </tr>\n",
       "    <tr>\n",
       "      <th>4</th>\n",
       "      <td>2.0</td>\n",
       "      <td>0.627493</td>\n",
       "      <td>-0.026405</td>\n",
       "      <td>-0.620959</td>\n",
       "      <td>0.999459</td>\n",
       "      <td>0.640899</td>\n",
       "      <td>-0.031612</td>\n",
       "      <td>-0.611016</td>\n",
       "      <td>0.998541</td>\n",
       "      <td>0.647435</td>\n",
       "      <td>...</td>\n",
       "      <td>0.254588</td>\n",
       "      <td>0.739560</td>\n",
       "      <td>0.811597</td>\n",
       "      <td>0.928399</td>\n",
       "      <td>0.076115</td>\n",
       "      <td>0.973136</td>\n",
       "      <td>0.396832</td>\n",
       "      <td>0.914108</td>\n",
       "      <td>0.047798</td>\n",
       "      <td>0.964807</td>\n",
       "    </tr>\n",
       "  </tbody>\n",
       "</table>\n",
       "<p>5 rows × 133 columns</p>\n",
       "</div>"
      ],
      "text/plain": [
       "   class        x1        y1        z1        v1        x2        y2  \\\n",
       "0    2.0  0.723751 -0.049298 -0.642914  0.999329  0.735183 -0.065842   \n",
       "1    2.0  0.647041  0.013189 -0.746258  0.999486  0.660023 -0.007457   \n",
       "2    2.0  0.642887 -0.014336 -0.643614  0.999578  0.656632 -0.016645   \n",
       "3    2.0  0.642500 -0.022484 -0.660777  0.999593  0.657063 -0.028539   \n",
       "4    2.0  0.627493 -0.026405 -0.620959  0.999459  0.640899 -0.031612   \n",
       "\n",
       "         z2        v2        x3  ...       z31       v31       x32       y32  \\\n",
       "0 -0.624667  0.998386  0.738107  ...  0.338775  0.756306  0.816191  0.948369   \n",
       "1 -0.734798  0.998607  0.665897  ...  0.191027  0.763103  0.825008  0.940904   \n",
       "2 -0.640461  0.998849  0.661174  ...  0.263745  0.753119  0.818989  0.932040   \n",
       "3 -0.656290  0.998995  0.661525  ...  0.316265  0.713201  0.808949  0.918164   \n",
       "4 -0.611016  0.998541  0.647435  ...  0.254588  0.739560  0.811597  0.928399   \n",
       "\n",
       "        z32       v32       x33       y33       z33       v33  \n",
       "0  0.062415  0.943334  0.401415  0.922194  0.125347  0.949879  \n",
       "1 -0.041937  0.958081  0.399222  0.918982 -0.012959  0.959239  \n",
       "2  0.000965  0.965213  0.401244  0.912100  0.076625  0.960741  \n",
       "3  0.091916  0.969207  0.398415  0.907529  0.114551  0.958177  \n",
       "4  0.076115  0.973136  0.396832  0.914108  0.047798  0.964807  \n",
       "\n",
       "[5 rows x 133 columns]"
      ]
     },
     "execution_count": 17,
     "metadata": {},
     "output_type": "execute_result"
    }
   ],
   "source": [
    "df = pd.read_csv('distance.csv')\n",
    "df.head()"
   ]
  },
  {
   "cell_type": "code",
   "execution_count": 18,
   "metadata": {},
   "outputs": [],
   "source": [
    "X = df.drop('class',axis=1) # features\n",
    "Y = df['class'] # label"
   ]
  },
  {
   "cell_type": "code",
   "execution_count": 19,
   "metadata": {},
   "outputs": [],
   "source": [
    "X_train,X_test,Y_train,Y_test = train_test_split(X,Y,test_size=0.3,random_state=1234)"
   ]
  },
  {
   "cell_type": "code",
   "execution_count": 20,
   "metadata": {},
   "outputs": [],
   "source": [
    "# Training and Pipelining the Model\n",
    "from sklearn.pipeline import make_pipeline\n",
    "from sklearn.preprocessing import StandardScaler\n",
    "from sklearn.ensemble import RandomForestClassifier,GradientBoostingClassifier"
   ]
  },
  {
   "cell_type": "code",
   "execution_count": 21,
   "metadata": {},
   "outputs": [],
   "source": [
    "# Pipelines\n",
    "pipelines = {\n",
    "    'rf':make_pipeline(StandardScaler(),RandomForestClassifier()),\n",
    "    'gb':make_pipeline(StandardScaler(),GradientBoostingClassifier())\n",
    "}"
   ]
  },
  {
   "cell_type": "code",
   "execution_count": 22,
   "metadata": {},
   "outputs": [],
   "source": [
    "fit_models = {}\n",
    "for algo,pipeline in pipelines.items():\n",
    "    model = pipeline.fit(X_train,Y_train)\n",
    "    fit_models[algo] = model "
   ]
  },
  {
   "cell_type": "code",
   "execution_count": 23,
   "metadata": {},
   "outputs": [
    {
     "data": {
      "text/plain": [
       "{'rf': Pipeline(steps=[('standardscaler', StandardScaler()),\n",
       "                 ('randomforestclassifier', RandomForestClassifier())]),\n",
       " 'gb': Pipeline(steps=[('standardscaler', StandardScaler()),\n",
       "                 ('gradientboostingclassifier', GradientBoostingClassifier())])}"
      ]
     },
     "execution_count": 23,
     "metadata": {},
     "output_type": "execute_result"
    }
   ],
   "source": [
    "fit_models"
   ]
  },
  {
   "cell_type": "code",
   "execution_count": 24,
   "metadata": {},
   "outputs": [
    {
     "data": {
      "text/plain": [
       "array([0., 0., 1., 2., 2., 2., 2., 0., 0., 1., 2., 2., 0., 0., 1., 1., 1.,\n",
       "       1., 1., 1., 0., 1., 2., 1., 0., 2., 1., 1., 0., 2., 1., 0., 2., 2.,\n",
       "       2., 1., 2., 1., 2., 0., 1., 1., 0., 1., 0., 2., 1., 2., 0., 0., 0.,\n",
       "       1., 2., 1., 2., 2., 2., 0., 1., 2., 0., 1., 0., 2., 2., 0., 0., 1.,\n",
       "       2., 2., 0., 1., 1., 0., 2., 2., 1., 2., 1., 1., 0., 1., 2., 1., 1.,\n",
       "       1., 2., 2., 0., 0., 0., 0., 2., 2., 2., 1., 2., 2., 2., 0., 0., 2.,\n",
       "       1., 1., 2., 1., 0., 0., 0., 1., 1., 1., 1., 0., 2., 0., 0., 2., 1.,\n",
       "       1., 2., 1., 2., 0., 0., 1., 1., 1., 1., 2., 0., 2., 1., 1., 1., 1.,\n",
       "       1., 0., 1., 1., 2., 1., 1., 1., 1., 1., 0., 0., 2., 1., 1., 2., 0.,\n",
       "       1., 1., 2., 0., 0., 2., 0., 1., 1., 0., 2., 1., 1., 2., 1., 2., 2.,\n",
       "       1., 1., 1., 2.])"
      ]
     },
     "execution_count": 24,
     "metadata": {},
     "output_type": "execute_result"
    }
   ],
   "source": [
    "fit_models['rf'].predict(X_test)"
   ]
  },
  {
   "cell_type": "markdown",
   "metadata": {},
   "source": [
    "Evaluate and Serialize the Model\n"
   ]
  },
  {
   "cell_type": "code",
   "execution_count": 25,
   "metadata": {},
   "outputs": [],
   "source": [
    "from sklearn.metrics import accuracy_score,precision_score,recall_score\n",
    "import pickle"
   ]
  },
  {
   "cell_type": "code",
   "execution_count": 26,
   "metadata": {},
   "outputs": [
    {
     "name": "stdout",
     "output_type": "stream",
     "text": [
      "rf 0.9770114942528736 0.9771711366538952 0.9770114942528736\n",
      "gb 0.9770114942528736 0.9770223542801538 0.9770114942528736\n"
     ]
    }
   ],
   "source": [
    "for algo,model in fit_models.items():\n",
    "    Y_pred = model.predict(X_test)\n",
    "    print(algo,accuracy_score(Y_test.values,Y_pred),\n",
    "          precision_score(Y_test.values,Y_pred,average='weighted'),\n",
    "          recall_score(Y_test.values,Y_pred,average='weighted'))"
   ]
  },
  {
   "cell_type": "code",
   "execution_count": 27,
   "metadata": {},
   "outputs": [
    {
     "data": {
      "text/plain": [
       "array([0., 0., 1., 2., 2., 2., 2., 0., 0., 1., 2., 2., 0., 0., 1., 1., 1.,\n",
       "       1., 1., 1., 0., 1., 2., 1., 0., 2., 1., 1., 0., 2., 1., 0., 2., 2.,\n",
       "       2., 1., 2., 1., 2., 0., 1., 1., 0., 1., 0., 2., 1., 2., 0., 0., 0.,\n",
       "       1., 2., 1., 2., 2., 2., 0., 1., 2., 0., 1., 0., 2., 0., 0., 0., 0.,\n",
       "       2., 2., 0., 1., 1., 0., 2., 2., 1., 2., 1., 1., 0., 1., 2., 1., 1.,\n",
       "       1., 2., 2., 0., 0., 0., 0., 2., 2., 2., 1., 2., 2., 2., 0., 0., 2.,\n",
       "       1., 1., 2., 1., 0., 0., 0., 1., 1., 1., 1., 0., 2., 0., 0., 2., 1.,\n",
       "       1., 2., 1., 2., 0., 0., 1., 1., 1., 1., 2., 0., 2., 1., 1., 1., 1.,\n",
       "       1., 0., 1., 1., 2., 1., 1., 1., 1., 1., 0., 0., 2., 1., 1., 2., 0.,\n",
       "       1., 1., 2., 0., 0., 2., 0., 1., 1., 0., 2., 1., 1., 2., 1., 2., 2.,\n",
       "       1., 1., 1., 2.])"
      ]
     },
     "execution_count": 27,
     "metadata": {},
     "output_type": "execute_result"
    }
   ],
   "source": [
    "Y_pred = fit_models['gb'].predict(X_test)\n",
    "Y_pred"
   ]
  },
  {
   "cell_type": "code",
   "execution_count": 30,
   "metadata": {},
   "outputs": [],
   "source": [
    "with open('distance.pkl','wb') as f:\n",
    "    pickle.dump(fit_models['gb'],f)"
   ]
  },
  {
   "cell_type": "markdown",
   "metadata": {},
   "source": [
    "Making Detections with the Model"
   ]
  },
  {
   "cell_type": "code",
   "execution_count": 31,
   "metadata": {},
   "outputs": [],
   "source": [
    "with open('distance.pkl','rb') as f:\n",
    "    model = pickle.load(f)"
   ]
  },
  {
   "cell_type": "code",
   "execution_count": 34,
   "metadata": {},
   "outputs": [
    {
     "name": "stdout",
     "output_type": "stream",
     "text": [
      "'NoneType' object has no attribute 'landmark'\n",
      "'NoneType' object has no attribute 'landmark'\n",
      "'NoneType' object has no attribute 'landmark'\n",
      "'NoneType' object has no attribute 'landmark'\n",
      "'NoneType' object has no attribute 'landmark'\n",
      "'NoneType' object has no attribute 'landmark'\n",
      "'NoneType' object has no attribute 'landmark'\n",
      "'NoneType' object has no attribute 'landmark'\n",
      "'NoneType' object has no attribute 'landmark'\n",
      "'NoneType' object has no attribute 'landmark'\n",
      "'NoneType' object has no attribute 'landmark'\n",
      "'NoneType' object has no attribute 'landmark'\n",
      "'NoneType' object has no attribute 'landmark'\n",
      "'NoneType' object has no attribute 'landmark'\n",
      "'NoneType' object has no attribute 'landmark'\n",
      "'NoneType' object has no attribute 'landmark'\n",
      "'NoneType' object has no attribute 'landmark'\n",
      "'NoneType' object has no attribute 'landmark'\n",
      "'NoneType' object has no attribute 'landmark'\n",
      "'NoneType' object has no attribute 'landmark'\n",
      "'NoneType' object has no attribute 'landmark'\n",
      "'NoneType' object has no attribute 'landmark'\n",
      "'NoneType' object has no attribute 'landmark'\n",
      "'NoneType' object has no attribute 'landmark'\n",
      "'NoneType' object has no attribute 'landmark'\n",
      "'NoneType' object has no attribute 'landmark'\n",
      "'NoneType' object has no attribute 'landmark'\n",
      "'NoneType' object has no attribute 'landmark'\n",
      "'NoneType' object has no attribute 'landmark'\n",
      "'NoneType' object has no attribute 'landmark'\n",
      "'NoneType' object has no attribute 'landmark'\n",
      "'NoneType' object has no attribute 'landmark'\n",
      "'NoneType' object has no attribute 'landmark'\n",
      "'NoneType' object has no attribute 'landmark'\n",
      "'NoneType' object has no attribute 'landmark'\n",
      "'NoneType' object has no attribute 'landmark'\n",
      "'NoneType' object has no attribute 'landmark'\n",
      "'NoneType' object has no attribute 'landmark'\n",
      "'NoneType' object has no attribute 'landmark'\n",
      "'NoneType' object has no attribute 'landmark'\n",
      "'NoneType' object has no attribute 'landmark'\n",
      "'NoneType' object has no attribute 'landmark'\n",
      "'NoneType' object has no attribute 'landmark'\n",
      "'NoneType' object has no attribute 'landmark'\n",
      "'NoneType' object has no attribute 'landmark'\n",
      "'NoneType' object has no attribute 'landmark'\n",
      "'NoneType' object has no attribute 'landmark'\n",
      "'NoneType' object has no attribute 'landmark'\n",
      "'NoneType' object has no attribute 'landmark'\n",
      "'NoneType' object has no attribute 'landmark'\n",
      "'NoneType' object has no attribute 'landmark'\n",
      "'NoneType' object has no attribute 'landmark'\n",
      "'NoneType' object has no attribute 'landmark'\n",
      "'NoneType' object has no attribute 'landmark'\n",
      "'NoneType' object has no attribute 'landmark'\n",
      "'NoneType' object has no attribute 'landmark'\n",
      "'NoneType' object has no attribute 'landmark'\n",
      "'NoneType' object has no attribute 'landmark'\n",
      "'NoneType' object has no attribute 'landmark'\n",
      "'NoneType' object has no attribute 'landmark'\n",
      "'NoneType' object has no attribute 'landmark'\n",
      "'NoneType' object has no attribute 'landmark'\n",
      "'NoneType' object has no attribute 'landmark'\n",
      "'NoneType' object has no attribute 'landmark'\n",
      "'NoneType' object has no attribute 'landmark'\n",
      "'NoneType' object has no attribute 'landmark'\n",
      "'NoneType' object has no attribute 'landmark'\n",
      "'NoneType' object has no attribute 'landmark'\n",
      "'NoneType' object has no attribute 'landmark'\n",
      "'NoneType' object has no attribute 'landmark'\n",
      "'NoneType' object has no attribute 'landmark'\n",
      "'NoneType' object has no attribute 'landmark'\n",
      "'NoneType' object has no attribute 'landmark'\n",
      "'NoneType' object has no attribute 'landmark'\n",
      "'NoneType' object has no attribute 'landmark'\n",
      "'NoneType' object has no attribute 'landmark'\n",
      "'NoneType' object has no attribute 'landmark'\n",
      "'NoneType' object has no attribute 'landmark'\n",
      "'NoneType' object has no attribute 'landmark'\n",
      "'NoneType' object has no attribute 'landmark'\n",
      "'NoneType' object has no attribute 'landmark'\n",
      "'NoneType' object has no attribute 'landmark'\n",
      "'NoneType' object has no attribute 'landmark'\n",
      "'NoneType' object has no attribute 'landmark'\n",
      "'NoneType' object has no attribute 'landmark'\n",
      "'NoneType' object has no attribute 'landmark'\n",
      "'NoneType' object has no attribute 'landmark'\n",
      "'NoneType' object has no attribute 'landmark'\n",
      "'NoneType' object has no attribute 'landmark'\n",
      "'NoneType' object has no attribute 'landmark'\n",
      "'NoneType' object has no attribute 'landmark'\n",
      "'NoneType' object has no attribute 'landmark'\n",
      "'NoneType' object has no attribute 'landmark'\n",
      "'NoneType' object has no attribute 'landmark'\n",
      "'NoneType' object has no attribute 'landmark'\n",
      "'NoneType' object has no attribute 'landmark'\n",
      "'NoneType' object has no attribute 'landmark'\n",
      "'NoneType' object has no attribute 'landmark'\n",
      "'NoneType' object has no attribute 'landmark'\n",
      "'NoneType' object has no attribute 'landmark'\n",
      "'NoneType' object has no attribute 'landmark'\n",
      "'NoneType' object has no attribute 'landmark'\n",
      "'NoneType' object has no attribute 'landmark'\n",
      "'NoneType' object has no attribute 'landmark'\n",
      "'NoneType' object has no attribute 'landmark'\n",
      "'NoneType' object has no attribute 'landmark'\n",
      "'NoneType' object has no attribute 'landmark'\n",
      "'NoneType' object has no attribute 'landmark'\n",
      "'NoneType' object has no attribute 'landmark'\n",
      "'NoneType' object has no attribute 'landmark'\n",
      "'NoneType' object has no attribute 'landmark'\n",
      "'NoneType' object has no attribute 'landmark'\n",
      "'NoneType' object has no attribute 'landmark'\n",
      "'NoneType' object has no attribute 'landmark'\n",
      "'NoneType' object has no attribute 'landmark'\n",
      "'NoneType' object has no attribute 'landmark'\n",
      "'NoneType' object has no attribute 'landmark'\n",
      "'NoneType' object has no attribute 'landmark'\n",
      "'NoneType' object has no attribute 'landmark'\n",
      "'NoneType' object has no attribute 'landmark'\n",
      "'NoneType' object has no attribute 'landmark'\n",
      "'NoneType' object has no attribute 'landmark'\n",
      "'NoneType' object has no attribute 'landmark'\n",
      "'NoneType' object has no attribute 'landmark'\n",
      "'NoneType' object has no attribute 'landmark'\n",
      "'NoneType' object has no attribute 'landmark'\n",
      "'NoneType' object has no attribute 'landmark'\n",
      "'NoneType' object has no attribute 'landmark'\n",
      "'NoneType' object has no attribute 'landmark'\n",
      "'NoneType' object has no attribute 'landmark'\n"
     ]
    }
   ],
   "source": [
    "cap = cv2.VideoCapture(0)\n",
    "current_Stage = ''\n",
    "with mp_pose.Pose(min_detection_confidence=0.5,min_tracking_confidence=0.5) as pose:\n",
    "    while cap.isOpened():\n",
    "        ret,frame = cap.read()\n",
    "\n",
    "        # Recolor Feed\n",
    "        image = cv2.cvtColor(frame,cv2.COLOR_BGR2RGB)\n",
    "        image.flags.writeable = False\n",
    "\n",
    "        # Make Detections\n",
    "        results = pose.process(image)\n",
    "\n",
    "        # Recolor it back\n",
    "        image.flags.writeable = True\n",
    "        image = cv2.cvtColor(image,cv2.COLOR_RGB2BGR)\n",
    "\n",
    "        # Draw Landmarks\n",
    "        mp_drawing.draw_landmarks(image,results.pose_landmarks,mp_pose.POSE_CONNECTIONS\n",
    "                                  , mp_drawing.DrawingSpec(color=(245,117,66),thickness=2,circle_radius=4),\n",
    "                                  mp_drawing.DrawingSpec(color=(245,66,230),thickness=2,circle_radius=2))\n",
    "        \n",
    "        try:\n",
    "            row = np.array([[res.x,res.y,res.z,res.visibility] for res in results.pose_landmarks.landmark]).flatten().tolist()\n",
    "            X = pd.DataFrame([row],columns=landmarks[1:])\n",
    "            bodylang_prob = model.predict_proba(X)[0]\n",
    "            bodylang_class = model.predict(X)[0]\n",
    "            \n",
    "            if bodylang_class==0.0 and bodylang_prob[bodylang_prob.argmax()] > 0.7:\n",
    "                current_Stage = \"Narrow\"\n",
    "            elif bodylang_class==1.0 and bodylang_prob[bodylang_prob.argmax()] > 0.7:\n",
    "                current_Stage = \"Correct\"\n",
    "            elif bodylang_class==2.0 and bodylang_prob[bodylang_prob.argmax()] > 0.7:\n",
    "                current_Stage = \"Wide\"\n",
    "\n",
    "            # Get status box\n",
    "            cv2.rectangle(image,(0,0),(250,60),(245,117,16),-1)\n",
    "\n",
    "            # Display Class\n",
    "            cv2.putText(image,'Class',\n",
    "                        (95,12),cv2.FONT_HERSHEY_SIMPLEX,0.5,(0,0,0),1,cv2.LINE_AA)\n",
    "            cv2.putText(image,current_Stage,\n",
    "                            (90,40),cv2.FONT_HERSHEY_SIMPLEX,1,(255,255,255),2,cv2.LINE_AA)\n",
    "            # Display Probability\n",
    "            cv2.putText(image,'Prob',\n",
    "                        (15,12),cv2.FONT_HERSHEY_SIMPLEX,0.5,(0,0,0),1,cv2.LINE_AA)\n",
    "            cv2.putText(image,str(round(bodylang_prob[np.argmax(bodylang_prob)],2)),\n",
    "                        (10,40),cv2.FONT_HERSHEY_SIMPLEX,1,(255,255,255),2,cv2.LINE_AA)\n",
    "            cv2.imshow('Deadlifts Distance',image)\n",
    "            if cv2.waitKey(10) & 0xFF == ord('q'):\n",
    "                break\n",
    "        except Exception as e:\n",
    "            print(e)\n",
    "            pass   \n",
    "cap.release()\n",
    "cv2.destroyAllWindows()"
   ]
  },
  {
   "cell_type": "code",
   "execution_count": null,
   "metadata": {},
   "outputs": [],
   "source": []
  },
  {
   "cell_type": "code",
   "execution_count": null,
   "metadata": {},
   "outputs": [],
   "source": []
  }
 ],
 "metadata": {
  "kernelspec": {
   "display_name": "Python 3",
   "language": "python",
   "name": "python3"
  },
  "language_info": {
   "codemirror_mode": {
    "name": "ipython",
    "version": 3
   },
   "file_extension": ".py",
   "mimetype": "text/x-python",
   "name": "python",
   "nbconvert_exporter": "python",
   "pygments_lexer": "ipython3",
   "version": "3.11.3"
  }
 },
 "nbformat": 4,
 "nbformat_minor": 2
}
