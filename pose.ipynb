{
 "cells": [
  {
   "cell_type": "code",
   "execution_count": null,
   "metadata": {},
   "outputs": [],
   "source": [
    "import cv2\n",
    "import mediapipe as mp\n",
    "import numpy as np\n",
    "mp_drawing = mp.solutions.drawing_utils\n",
    "mp_pose = mp.solutions.pose"
   ]
  },
  {
   "cell_type": "code",
   "execution_count": null,
   "metadata": {},
   "outputs": [],
   "source": [
    "#Video Feed\n",
    "cap = cv2.VideoCapture(0)\n",
    "while cap.isOpened():\n",
    "    ret,frame = cap.read()\n",
    "    cv2.imshow('Mediapipe Feed',frame)\n",
    "\n",
    "    if cv2.waitKey(10) & 0XFF==ord('q'):\n",
    "        break\n",
    "cap.release()\n",
    "cv2.destroyAllWindows()"
   ]
  },
  {
   "cell_type": "markdown",
   "metadata": {},
   "source": [
    "Making Detections"
   ]
  },
  {
   "cell_type": "code",
   "execution_count": null,
   "metadata": {},
   "outputs": [],
   "source": [
    "cap = cv2.VideoCapture(0)\n",
    "# Setting up Media Instance\n",
    "with mp_pose.Pose(min_detection_confidence=0.5,min_tracking_confidence=0.5) as pose:\n",
    "    while cap.isOpened():\n",
    "        ret,frame = cap.read()\n",
    "        #Recolour the image to RGB to make it compatible with Mediapipeqqqq\n",
    "        image = cv2.cvtColor(frame,cv2.COLOR_BGR2RGB)\n",
    "        image.flags.writeable = False\n",
    "\n",
    "        #Make Detection\n",
    "        results = pose.process(image)\n",
    "\n",
    "        #Recolor back to BGR to make it compatible with Open CV\n",
    "        image.flags.writeable = True\n",
    "        image = cv2.cvtColor(image,cv2.COLOR_RGB2BGR)\n",
    "\n",
    "        #Render Detections\n",
    "        mp_drawing.draw_landmarks(image,results.pose_landmarks,mp_pose.POSE_CONNECTIONS,\n",
    "                                mp_drawing.DrawingSpec(color=(245,117,66), thickness=2, circle_radius=2), \n",
    "                                mp_drawing.DrawingSpec(color=(245,66,230), thickness=2, circle_radius=2))\n",
    "\n",
    "        cv2.imshow('Mediapipe Feed',image)\n",
    "        if cv2.waitKey(10) & 0xFF == ord('q'):\n",
    "            break\n",
    "    cap.release()\n",
    "    cv2.destroyAllWindows()\n",
    "        "
   ]
  },
  {
   "cell_type": "markdown",
   "metadata": {},
   "source": [
    "Determining Joints"
   ]
  },
  {
   "cell_type": "code",
   "execution_count": null,
   "metadata": {},
   "outputs": [],
   "source": [
    "# Same code as the previous one except we will be extracting landmarks\n",
    "cap = cv2.VideoCapture(0)\n",
    "# Setting up Mediapipe Pose Instance \n",
    "with mp_pose.Pose(min_detection_confidence=0.5,min_tracking_confidence=0.5) as pose:\n",
    "    while cap.isOpened():\n",
    "        ret,frame = cap.read()\n",
    "        \n",
    "        image = cv2.cvtColor(frame,cv2.COLOR_BGR2RGB)\n",
    "        image.flags.writeable = False\n",
    "\n",
    "        results = pose.process(image)\n",
    "\n",
    "        image.flags.writeable = True\n",
    "        image = cv2.cvtColor(image,cv2.COLOR_BGR2RGB)\n",
    "\n",
    "        #Extract Landmarks\n",
    "        try:\n",
    "            landmarks = results.pose_landmarks.landmark\n",
    "            print(landmarks)\n",
    "        except:\n",
    "            pass\n",
    "\n",
    "        #Rendering \n",
    "        mp_drawing.draw_landmarks(image,results.pose_landmarks,mp_pose.POSE_CONNECTIONS,\n",
    "                                  mp_drawing.DrawingSpec(color=(117,66,245), thickness=2, circle_radius=2),\n",
    "                                  mp_drawing.DrawingSpec(color=(245,117,66), thickness=2, circle_radius=2))\n",
    "        \n",
    "        cv2.imshow('Mediapipe Feed',image)\n",
    "        if cv2.waitKey(10) & 0xFF == ord('q'):\n",
    "            break\n",
    "    cap.release()\n",
    "    cv2.destroyAllWindows() "
   ]
  },
  {
   "cell_type": "code",
   "execution_count": null,
   "metadata": {},
   "outputs": [],
   "source": [
    "len(landmarks)"
   ]
  },
  {
   "cell_type": "code",
   "execution_count": null,
   "metadata": {},
   "outputs": [],
   "source": [
    "for lndmrk in mp_pose.PoseLandmark:\n",
    "    print(lndmrk.name)\n",
    "# There are 33 LandMarks in total starting from 0 to 32"
   ]
  },
  {
   "cell_type": "code",
   "execution_count": null,
   "metadata": {},
   "outputs": [],
   "source": [
    "landmarks[mp_pose.PoseLandmark.LEFT_SHOULDER.value]"
   ]
  },
  {
   "cell_type": "code",
   "execution_count": null,
   "metadata": {},
   "outputs": [],
   "source": [
    "landmarks[mp_pose.PoseLandmark.LEFT_EYE.value]"
   ]
  },
  {
   "cell_type": "code",
   "execution_count": null,
   "metadata": {},
   "outputs": [],
   "source": [
    "#for a bicep exercise we will need landmarks of elbow,wrist and shoulder\n",
    "print(\"LEFT ELBOW\")\n",
    "print(landmarks[mp_pose.PoseLandmark.LEFT_ELBOW.value])\n",
    "print(\"LEFT SHOULDER\")\n",
    "print(landmarks[mp_pose.PoseLandmark.LEFT_SHOULDER.value])\n",
    "print(\"LEFT WRIST\")\n",
    "print(landmarks[mp_pose.PoseLandmark.LEFT_WRIST.value])"
   ]
  },
  {
   "cell_type": "markdown",
   "metadata": {},
   "source": [
    "CALCULATING ANGLES"
   ]
  },
  {
   "cell_type": "code",
   "execution_count": null,
   "metadata": {},
   "outputs": [],
   "source": [
    "# np.arctan2(y, x) returns the arctangent of the quotient y/x, taking into account the signs of y and x to determine the correct quadrant.\n",
    "def calculate_angle(a,b,c):\n",
    "    a = np.array(a) #First point\n",
    "    b = np.array(b) #Mid point about which angle is found\n",
    "    c = np.array(c) #End Point \n",
    "     \n",
    "    radians = np.arctan2(c[1]-b[1],c[0]-b[0]) - np.arctan2(a[1]-b[1],a[0]-b[0])\n",
    "    angle = np.abs(radians*180.0/np.pi)\n",
    "    \n",
    "    if angle>180.0:\n",
    "        angle = 360-angle\n",
    "    return angle"
   ]
  },
  {
   "cell_type": "markdown",
   "metadata": {},
   "source": [
    "Curl and Counter Logic"
   ]
  },
  {
   "cell_type": "code",
   "execution_count": null,
   "metadata": {},
   "outputs": [],
   "source": [
    "# Curl counter logic\n",
    "\"\"\" \n",
    "if angle > 160:\n",
    "    stage = \"down\"\n",
    "if angle < 30 and stage =='down':\n",
    "    stage=\"up\"\n",
    "    counter +=1\n",
    "    print(counter)\n",
    "\"\"\""
   ]
  },
  {
   "cell_type": "markdown",
   "metadata": {},
   "source": [
    "Final Code Function"
   ]
  },
  {
   "cell_type": "code",
   "execution_count": 33,
   "metadata": {},
   "outputs": [],
   "source": [
    "def biceps():\n",
    "    cap = cv2.VideoCapture(0)\n",
    "\n",
    "    # Curl Counter Variables\n",
    "    counter = 0\n",
    "    stage = None\n",
    "    # Setting up Mediapipe Instance \n",
    "    with mp_pose.Pose(min_detection_confidence=0.5,min_tracking_confidence=0.5) as pose:\n",
    "        while cap.isOpened():\n",
    "            ret,frame = cap.read() #Start Capturing\n",
    "\n",
    "            # Recolor to RGB\n",
    "            image = cv2.cvtColor(frame,cv2.COLOR_BGR2RGB)\n",
    "            image.flags.writeable = False\n",
    "\n",
    "            # Detecting and storing in results list\n",
    "            results = pose.process(image)\n",
    "\n",
    "            # Recolor back to BGR\n",
    "            image = cv2.cvtColor(image,cv2.COLOR_RGB2BGR)\n",
    "            \n",
    "            try:\n",
    "                # Extract landmarks\n",
    "                landmarks = results.pose_landmarks.landmark\n",
    "                \n",
    "                # Get the required coordinates\n",
    "                shoulder = [landmarks[mp_pose.PoseLandmark.LEFT_SHOULDER.value].x,landmarks[mp_pose.PoseLandmark.LEFT_SHOULDER.value].y]\n",
    "                elbow = [landmarks[mp_pose.PoseLandmark.LEFT_ELBOW.value].x,landmarks[mp_pose.PoseLandmark.LEFT_ELBOW.value].y]\n",
    "                wrist = [landmarks[mp_pose.PoseLandmark.LEFT_WRIST.value].x,landmarks[mp_pose.PoseLandmark.LEFT_WRIST.value].y]\n",
    "\n",
    "                # Get the Angle\n",
    "                angle = calculate_angle(shoulder,elbow,wrist)\n",
    "\n",
    "                # Visualise \n",
    "                cv2.putText(image,str(angle),\n",
    "                            tuple(np.multiply(elbow,[640,480]).astype(int)),\n",
    "                            cv2.FONT_HERSHEY_SIMPLEX,0.5,(255,255,255),2,cv2.LINE_AA)\n",
    "                # Landmark Rendering\n",
    "                mp_drawing.draw_landmarks(image,results.pose_landmarks,mp_pose.POSE_CONNECTIONS,\n",
    "                                    mp_drawing.DrawingSpec(color=(117,66,245), thickness=2, circle_radius=2),\n",
    "                                    mp_drawing.DrawingSpec(color=(245,117,66), thickness=2, circle_radius=2))\n",
    "                \n",
    "                # Curl Counter\n",
    "                if angle > 150:\n",
    "                    stage = \"down\"\n",
    "                if angle < 30 and stage == \"down\":\n",
    "                    stage=\"up\"\n",
    "                    counter +=1\n",
    "                    print(counter)\n",
    "\n",
    "            except: pass\n",
    "\n",
    "            # Rendering Curl Counter \n",
    "            #Setting up Status Box\n",
    "            # Set a dark color for the text\n",
    "            dark_text_color = (10, 10, 10)\n",
    "\n",
    "            # Rep data\n",
    "            cv2.putText(image, 'REPS', (15, 30), \n",
    "                        cv2.FONT_HERSHEY_SIMPLEX, 0.8, (0,0,0), 1, cv2.LINE_AA)\n",
    "            cv2.putText(image, str(counter), \n",
    "                        (10, 80), \n",
    "                        cv2.FONT_HERSHEY_SIMPLEX, 2, dark_text_color, 2, cv2.LINE_AA)\n",
    "                    \n",
    "            # Stage data\n",
    "            cv2.putText(image, 'STAGE', (65, 30), \n",
    "                        cv2.FONT_HERSHEY_SIMPLEX, 0.8, (0,0,0), 1, cv2.LINE_AA)\n",
    "            cv2.putText(image, stage, \n",
    "                        (60, 80), \n",
    "                        cv2.FONT_HERSHEY_SIMPLEX, 2, dark_text_color, 2, cv2.LINE_AA)\n",
    "            \n",
    "            cv2.imshow('Mediapipe Feed',image)\n",
    "\n",
    "            if cv2.waitKey(10) & 0xFF == ord('q'):\n",
    "                break\n",
    "\n",
    "        cap.release()\n",
    "        cv2.destroyAllWindows()\n"
   ]
  },
  {
   "cell_type": "code",
   "execution_count": 34,
   "metadata": {},
   "outputs": [
    {
     "name": "stdout",
     "output_type": "stream",
     "text": [
      "1\n",
      "2\n",
      "3\n",
      "4\n",
      "5\n",
      "6\n",
      "7\n",
      "8\n",
      "9\n"
     ]
    }
   ],
   "source": [
    "biceps()"
   ]
  }
 ],
 "metadata": {
  "kernelspec": {
   "display_name": "Python 3",
   "language": "python",
   "name": "python3"
  },
  "language_info": {
   "codemirror_mode": {
    "name": "ipython",
    "version": 3
   },
   "file_extension": ".py",
   "mimetype": "text/x-python",
   "name": "python",
   "nbconvert_exporter": "python",
   "pygments_lexer": "ipython3",
   "version": "3.11.3"
  }
 },
 "nbformat": 4,
 "nbformat_minor": 2
}
