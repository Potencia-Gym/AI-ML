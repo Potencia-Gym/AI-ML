{
 "cells": [
  {
   "cell_type": "code",
   "execution_count": 9,
   "metadata": {},
   "outputs": [],
   "source": [
    "import mediapipe as mp\n",
    "import cv2\n",
    "import numpy as np\n",
    "import csv\n",
    "import os\n",
    "import matplotlib.pyplot as plt\n",
    "import pickle\n",
    "import pandas as pd\n",
    "import pyttsx3"
   ]
  },
  {
   "cell_type": "code",
   "execution_count": 10,
   "metadata": {},
   "outputs": [],
   "source": [
    "engine  = pyttsx3.init('sapi5')\n",
    "voices = engine.getProperty('voices')\n",
    "engine.setProperty('voice',voices[1].id) # 0 - male"
   ]
  },
  {
   "cell_type": "code",
   "execution_count": 11,
   "metadata": {},
   "outputs": [],
   "source": [
    "def speak(audio):\n",
    "    engine.say(audio)\n",
    "    engine.runAndWait()"
   ]
  },
  {
   "cell_type": "code",
   "execution_count": 2,
   "metadata": {},
   "outputs": [],
   "source": [
    "mp_drawing = mp.solutions.drawing_utils\n",
    "mp_pose = mp.solutions.pose"
   ]
  },
  {
   "cell_type": "code",
   "execution_count": 3,
   "metadata": {},
   "outputs": [],
   "source": [
    "landmarks = ['class']  # Class is Y - target value\n",
    "for val in range(1,33+1):\n",
    "    landmarks+=['x{}'.format(val),'y{}'.format(val),'z{}'.format(val),'v{}'.format(val)]"
   ]
  },
  {
   "cell_type": "markdown",
   "metadata": {},
   "source": [
    "Deadlift Model"
   ]
  },
  {
   "cell_type": "code",
   "execution_count": 5,
   "metadata": {},
   "outputs": [],
   "source": [
    "with open('deadlift.pkl','rb') as f:\n",
    "    deadlift_model = pickle.load(f)"
   ]
  },
  {
   "cell_type": "markdown",
   "metadata": {},
   "source": [
    "Lean Model"
   ]
  },
  {
   "cell_type": "code",
   "execution_count": 6,
   "metadata": {},
   "outputs": [],
   "source": [
    "with open('lean.pkl','rb') as f:\n",
    "    lean_model = pickle.load(f)"
   ]
  },
  {
   "cell_type": "markdown",
   "metadata": {},
   "source": [
    "Distance Model"
   ]
  },
  {
   "cell_type": "code",
   "execution_count": 7,
   "metadata": {},
   "outputs": [],
   "source": [
    "with open('distance.pkl','rb') as f:\n",
    "    distance_model = pickle.load(f)"
   ]
  },
  {
   "cell_type": "markdown",
   "metadata": {},
   "source": [
    "Final Code"
   ]
  },
  {
   "cell_type": "code",
   "execution_count": 33,
   "metadata": {},
   "outputs": [
    {
     "name": "stdout",
     "output_type": "stream",
     "text": [
      "'NoneType' object has no attribute 'landmark'\n",
      "'NoneType' object has no attribute 'landmark'\n",
      "'NoneType' object has no attribute 'landmark'\n",
      "'NoneType' object has no attribute 'landmark'\n",
      "'NoneType' object has no attribute 'landmark'\n",
      "'NoneType' object has no attribute 'landmark'\n",
      "'NoneType' object has no attribute 'landmark'\n",
      "'NoneType' object has no attribute 'landmark'\n",
      "'NoneType' object has no attribute 'landmark'\n",
      "'NoneType' object has no attribute 'landmark'\n",
      "'NoneType' object has no attribute 'landmark'\n",
      "'NoneType' object has no attribute 'landmark'\n",
      "'NoneType' object has no attribute 'landmark'\n",
      "'NoneType' object has no attribute 'landmark'\n",
      "'NoneType' object has no attribute 'landmark'\n",
      "'NoneType' object has no attribute 'landmark'\n",
      "'NoneType' object has no attribute 'landmark'\n",
      "'NoneType' object has no attribute 'landmark'\n",
      "'NoneType' object has no attribute 'landmark'\n",
      "'NoneType' object has no attribute 'landmark'\n",
      "'NoneType' object has no attribute 'landmark'\n",
      "'NoneType' object has no attribute 'landmark'\n",
      "'NoneType' object has no attribute 'landmark'\n",
      "'NoneType' object has no attribute 'landmark'\n",
      "'NoneType' object has no attribute 'landmark'\n",
      "'NoneType' object has no attribute 'landmark'\n",
      "'NoneType' object has no attribute 'landmark'\n",
      "'NoneType' object has no attribute 'landmark'\n",
      "'NoneType' object has no attribute 'landmark'\n"
     ]
    }
   ],
   "source": [
    "cap = cv2.VideoCapture(0)\n",
    "current_Stage = ''\n",
    "current_lean_Status = ''\n",
    "current_distance_Status = ''\n",
    "counter = 0 \n",
    "speak_set = 0\n",
    "with mp_pose.Pose(min_detection_confidence=0.5,min_tracking_confidence=0.5) as pose:\n",
    "    while cap.isOpened():\n",
    "        ret,frame = cap.read()\n",
    "\n",
    "        # Recolor Feed\n",
    "        image = cv2.cvtColor(frame,cv2.COLOR_BGR2RGB)\n",
    "        image.flags.writeable = False\n",
    "\n",
    "        # Make Detections\n",
    "        results = pose.process(image)\n",
    "\n",
    "        # Recolor it back\n",
    "        image.flags.writeable = True\n",
    "        image = cv2.cvtColor(image,cv2.COLOR_RGB2BGR)\n",
    "\n",
    "        # Draw Landmarks\n",
    "        mp_drawing.draw_landmarks(image,results.pose_landmarks,mp_pose.POSE_CONNECTIONS\n",
    "                                  , mp_drawing.DrawingSpec(color=(245,117,66),thickness=2,circle_radius=4),\n",
    "                                  mp_drawing.DrawingSpec(color=(245,66,230),thickness=2,circle_radius=2))\n",
    "        \n",
    "        try:\n",
    "            row = np.array([[res.x,res.y,res.z,res.visibility] for res in results.pose_landmarks.landmark]).flatten().tolist()\n",
    "            X = pd.DataFrame([row],columns=landmarks[1:])\n",
    "            bodylang_prob = deadlift_model.predict_proba(X)[0]\n",
    "            bodylang_class = deadlift_model.predict(X)[0]\n",
    "            lean_prob = lean_model.predict_proba(X)[0]\n",
    "            lean_class = lean_model.predict(X)[0]\n",
    "            distance_prob = distance_model.predict_proba(X)[0]\n",
    "            distance_class = distance_model.predict(X)[0]\n",
    "            if(lean_class==1.0 and lean_prob[lean_prob.argmax()]>0.5):\n",
    "                # if speak_set==0:\n",
    "                #     speak(\"Your Posture is perfect. Start the exercise.\")\n",
    "                #     speak_set=1\n",
    "                if bodylang_class==0.0 and bodylang_prob[bodylang_prob.argmax()] > 0.7:\n",
    "                    current_Stage = \"down\"\n",
    "                elif bodylang_class==1.0 and current_Stage==\"down\" and bodylang_prob[bodylang_prob.argmax()] > 0.7:\n",
    "                    current_Stage = \"up\"\n",
    "                    counter+=1\n",
    "            # Setting Distance Status\n",
    "            if distance_class==0.0 and distance_prob[distance_prob.argmax()] > 0.5:\n",
    "                current_distance_Status = \"Narrow\"\n",
    "            elif distance_class==1.0 and distance_prob[distance_prob.argmax()] > 0.5:\n",
    "                current_distance_Status = \"Correct\"\n",
    "            elif distance_class==2.0 and distance_prob[distance_prob.argmax()] > 0.5:\n",
    "                current_distance_Status = \"Wide\"\n",
    "            # Setting Lean Status\n",
    "            if lean_class==0.0 and lean_prob[lean_prob.argmax()] > 0.5:\n",
    "                current_lean_Status = \"Left\"\n",
    "            elif lean_class==1.0 and lean_prob[lean_prob.argmax()] > 0.5:\n",
    "                current_lean_Status = \"Centre\"\n",
    "            elif lean_class==2.0 and lean_prob[lean_prob.argmax()] > 0.5:\n",
    "                current_lean_Status = \"Right\"\n",
    "            \n",
    "            # Get status box\n",
    "            cv2.rectangle(image,(0,0),(550,60),(245,117,16),-1)\n",
    "\n",
    "            # Display Rep\n",
    "            cv2.putText(image,'Status',\n",
    "                        (95,12),cv2.FONT_HERSHEY_SIMPLEX,0.5,(0,0,0),1,cv2.LINE_AA)\n",
    "            cv2.putText(image,current_Stage,\n",
    "                            (90,40),cv2.FONT_HERSHEY_SIMPLEX,1,(255,255,255),2,cv2.LINE_AA)\n",
    "            # Display Probability\n",
    "            cv2.putText(image,'Prob',\n",
    "                        (15,12),cv2.FONT_HERSHEY_SIMPLEX,0.5,(0,0,0),1,cv2.LINE_AA)\n",
    "            cv2.putText(image,str(round(bodylang_prob[np.argmax(bodylang_prob)],2)),\n",
    "                        (10,40),cv2.FONT_HERSHEY_SIMPLEX,1,(255,255,255),2,cv2.LINE_AA)\n",
    "            # Display Count\n",
    "            cv2.putText(image,'Count',\n",
    "                        (180,12),cv2.FONT_HERSHEY_SIMPLEX,0.5,(0,0,0),1,cv2.LINE_AA)\n",
    "            cv2.putText(image,str(counter),\n",
    "                        (200,40),cv2.FONT_HERSHEY_SIMPLEX,1,(255,255,255),2,cv2.LINE_AA)\n",
    "            # Display Lean\n",
    "            cv2.putText(image,'Posture',\n",
    "                        (280,12),cv2.FONT_HERSHEY_SIMPLEX,0.5,(0,0,0),1,cv2.LINE_AA)\n",
    "            cv2.putText(image,current_lean_Status,\n",
    "                            (280,40),cv2.FONT_HERSHEY_SIMPLEX,1,(255,255,255),2,cv2.LINE_AA)\n",
    "            # Display Distance\n",
    "            cv2.putText(image,'Distance',\n",
    "                        (400,12),cv2.FONT_HERSHEY_SIMPLEX,0.5,(0,0,0),1,cv2.LINE_AA)\n",
    "            cv2.putText(image,\"Correct\",\n",
    "                            (400,40),cv2.FONT_HERSHEY_SIMPLEX,1,(255,255,255),2,cv2.LINE_AA)\n",
    "            cv2.imshow('Deadlifts',image)\n",
    "            if cv2.waitKey(10) & 0xFF == ord('q'):\n",
    "                break\n",
    "        except Exception as e:\n",
    "            print(e)\n",
    "cap.release()\n",
    "cv2.destroyAllWindows()\n",
    "            \n",
    "            "
   ]
  }
 ],
 "metadata": {
  "kernelspec": {
   "display_name": "Python 3",
   "language": "python",
   "name": "python3"
  },
  "language_info": {
   "codemirror_mode": {
    "name": "ipython",
    "version": 3
   },
   "file_extension": ".py",
   "mimetype": "text/x-python",
   "name": "python",
   "nbconvert_exporter": "python",
   "pygments_lexer": "ipython3",
   "version": "3.11.3"
  }
 },
 "nbformat": 4,
 "nbformat_minor": 2
}
