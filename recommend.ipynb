{
 "cells": [
  {
   "cell_type": "code",
   "execution_count": 2,
   "metadata": {},
   "outputs": [],
   "source": [
    "import pandas as pd\n",
    "import numpy as np\n",
    "import matplotlib.pyplot as plt\n",
    "import json\n",
    "from sklearn.feature_extraction.text import TfidfVectorizer\n",
    "from sklearn.metrics.pairwise import cosine_similarity,euclidean_distances"
   ]
  },
  {
   "cell_type": "code",
   "execution_count": 3,
   "metadata": {},
   "outputs": [],
   "source": [
    "data = pd.read_csv('data/gym_data.csv')"
   ]
  },
  {
   "cell_type": "code",
   "execution_count": 4,
   "metadata": {},
   "outputs": [
    {
     "data": {
      "text/html": [
       "<div>\n",
       "<style scoped>\n",
       "    .dataframe tbody tr th:only-of-type {\n",
       "        vertical-align: middle;\n",
       "    }\n",
       "\n",
       "    .dataframe tbody tr th {\n",
       "        vertical-align: top;\n",
       "    }\n",
       "\n",
       "    .dataframe thead th {\n",
       "        text-align: right;\n",
       "    }\n",
       "</style>\n",
       "<table border=\"1\" class=\"dataframe\">\n",
       "  <thead>\n",
       "    <tr style=\"text-align: right;\">\n",
       "      <th></th>\n",
       "      <th>S.No.</th>\n",
       "      <th>Title</th>\n",
       "      <th>Desc</th>\n",
       "      <th>Type</th>\n",
       "      <th>BodyPart</th>\n",
       "      <th>Equipment</th>\n",
       "      <th>Level</th>\n",
       "    </tr>\n",
       "  </thead>\n",
       "  <tbody>\n",
       "    <tr>\n",
       "      <th>0</th>\n",
       "      <td>0</td>\n",
       "      <td>Partner plank band row</td>\n",
       "      <td>The partner plank band row is an abdominal exe...</td>\n",
       "      <td>Strength</td>\n",
       "      <td>Abdominals</td>\n",
       "      <td>Bands</td>\n",
       "      <td>Intermediate</td>\n",
       "    </tr>\n",
       "    <tr>\n",
       "      <th>1</th>\n",
       "      <td>1</td>\n",
       "      <td>Banded crunch isometric hold</td>\n",
       "      <td>The banded crunch isometric hold is an exercis...</td>\n",
       "      <td>Strength</td>\n",
       "      <td>Abdominals</td>\n",
       "      <td>Bands</td>\n",
       "      <td>Intermediate</td>\n",
       "    </tr>\n",
       "    <tr>\n",
       "      <th>2</th>\n",
       "      <td>2</td>\n",
       "      <td>FYR Banded Plank Jack</td>\n",
       "      <td>The banded plank jack is a variation on the pl...</td>\n",
       "      <td>Strength</td>\n",
       "      <td>Abdominals</td>\n",
       "      <td>Bands</td>\n",
       "      <td>Intermediate</td>\n",
       "    </tr>\n",
       "    <tr>\n",
       "      <th>3</th>\n",
       "      <td>3</td>\n",
       "      <td>Banded crunch</td>\n",
       "      <td>The banded crunch is an exercise targeting the...</td>\n",
       "      <td>Strength</td>\n",
       "      <td>Abdominals</td>\n",
       "      <td>Bands</td>\n",
       "      <td>Intermediate</td>\n",
       "    </tr>\n",
       "    <tr>\n",
       "      <th>4</th>\n",
       "      <td>4</td>\n",
       "      <td>Crunch</td>\n",
       "      <td>The crunch is a popular core exercise targetin...</td>\n",
       "      <td>Strength</td>\n",
       "      <td>Abdominals</td>\n",
       "      <td>Bands</td>\n",
       "      <td>Intermediate</td>\n",
       "    </tr>\n",
       "  </tbody>\n",
       "</table>\n",
       "</div>"
      ],
      "text/plain": [
       "   S.No.                         Title  \\\n",
       "0      0        Partner plank band row   \n",
       "1      1  Banded crunch isometric hold   \n",
       "2      2         FYR Banded Plank Jack   \n",
       "3      3                 Banded crunch   \n",
       "4      4                        Crunch   \n",
       "\n",
       "                                                Desc      Type    BodyPart  \\\n",
       "0  The partner plank band row is an abdominal exe...  Strength  Abdominals   \n",
       "1  The banded crunch isometric hold is an exercis...  Strength  Abdominals   \n",
       "2  The banded plank jack is a variation on the pl...  Strength  Abdominals   \n",
       "3  The banded crunch is an exercise targeting the...  Strength  Abdominals   \n",
       "4  The crunch is a popular core exercise targetin...  Strength  Abdominals   \n",
       "\n",
       "  Equipment         Level  \n",
       "0     Bands  Intermediate  \n",
       "1     Bands  Intermediate  \n",
       "2     Bands  Intermediate  \n",
       "3     Bands  Intermediate  \n",
       "4     Bands  Intermediate  "
      ]
     },
     "execution_count": 4,
     "metadata": {},
     "output_type": "execute_result"
    }
   ],
   "source": [
    "data.head()"
   ]
  },
  {
   "cell_type": "code",
   "execution_count": 5,
   "metadata": {},
   "outputs": [],
   "source": [
    "def to_String(row):\n",
    "    title = row['Title']\n",
    "    type = row['Type']\n",
    "    desc = row['Desc']\n",
    "    bodypart = row['BodyPart']\n",
    "    equipment = row['Equipment']\n",
    "    level = row['Level']\n",
    "    return \"%s %s %s %s %s %s\"%(title,desc,type,bodypart,equipment,level)"
   ]
  },
  {
   "cell_type": "code",
   "execution_count": 6,
   "metadata": {},
   "outputs": [
    {
     "data": {
      "text/plain": [
       "0       Partner plank band row The partner plank band ...\n",
       "1       Banded crunch isometric hold The banded crunch...\n",
       "2       FYR Banded Plank Jack The banded plank jack is...\n",
       "3       Banded crunch The banded crunch is an exercise...\n",
       "4       Crunch The crunch is a popular core exercise t...\n",
       "                              ...                        \n",
       "1363    Decline EZ-bar skullcrusher The decline EZ-bar...\n",
       "1364    EZ-Bar Skullcrusher The EZ-bar skullcrusher is...\n",
       "1365    EZ-bar skullcrusher- The EZ-bar skullcrusher i...\n",
       "1366    EZ-Bar Skullcrusher - Gethin Variation The EZ-...\n",
       "1367    TBS Skullcrusher The EZ-bar skullcrusher is a ...\n",
       "Name: string, Length: 1368, dtype: object"
      ]
     },
     "execution_count": 6,
     "metadata": {},
     "output_type": "execute_result"
    }
   ],
   "source": [
    "data['string'] = data.apply(to_String,axis=1)\n",
    "data['string']"
   ]
  },
  {
   "cell_type": "code",
   "execution_count": 7,
   "metadata": {},
   "outputs": [
    {
     "data": {
      "text/html": [
       "<style>#sk-container-id-1 {color: black;background-color: white;}#sk-container-id-1 pre{padding: 0;}#sk-container-id-1 div.sk-toggleable {background-color: white;}#sk-container-id-1 label.sk-toggleable__label {cursor: pointer;display: block;width: 100%;margin-bottom: 0;padding: 0.3em;box-sizing: border-box;text-align: center;}#sk-container-id-1 label.sk-toggleable__label-arrow:before {content: \"▸\";float: left;margin-right: 0.25em;color: #696969;}#sk-container-id-1 label.sk-toggleable__label-arrow:hover:before {color: black;}#sk-container-id-1 div.sk-estimator:hover label.sk-toggleable__label-arrow:before {color: black;}#sk-container-id-1 div.sk-toggleable__content {max-height: 0;max-width: 0;overflow: hidden;text-align: left;background-color: #f0f8ff;}#sk-container-id-1 div.sk-toggleable__content pre {margin: 0.2em;color: black;border-radius: 0.25em;background-color: #f0f8ff;}#sk-container-id-1 input.sk-toggleable__control:checked~div.sk-toggleable__content {max-height: 200px;max-width: 100%;overflow: auto;}#sk-container-id-1 input.sk-toggleable__control:checked~label.sk-toggleable__label-arrow:before {content: \"▾\";}#sk-container-id-1 div.sk-estimator input.sk-toggleable__control:checked~label.sk-toggleable__label {background-color: #d4ebff;}#sk-container-id-1 div.sk-label input.sk-toggleable__control:checked~label.sk-toggleable__label {background-color: #d4ebff;}#sk-container-id-1 input.sk-hidden--visually {border: 0;clip: rect(1px 1px 1px 1px);clip: rect(1px, 1px, 1px, 1px);height: 1px;margin: -1px;overflow: hidden;padding: 0;position: absolute;width: 1px;}#sk-container-id-1 div.sk-estimator {font-family: monospace;background-color: #f0f8ff;border: 1px dotted black;border-radius: 0.25em;box-sizing: border-box;margin-bottom: 0.5em;}#sk-container-id-1 div.sk-estimator:hover {background-color: #d4ebff;}#sk-container-id-1 div.sk-parallel-item::after {content: \"\";width: 100%;border-bottom: 1px solid gray;flex-grow: 1;}#sk-container-id-1 div.sk-label:hover label.sk-toggleable__label {background-color: #d4ebff;}#sk-container-id-1 div.sk-serial::before {content: \"\";position: absolute;border-left: 1px solid gray;box-sizing: border-box;top: 0;bottom: 0;left: 50%;z-index: 0;}#sk-container-id-1 div.sk-serial {display: flex;flex-direction: column;align-items: center;background-color: white;padding-right: 0.2em;padding-left: 0.2em;position: relative;}#sk-container-id-1 div.sk-item {position: relative;z-index: 1;}#sk-container-id-1 div.sk-parallel {display: flex;align-items: stretch;justify-content: center;background-color: white;position: relative;}#sk-container-id-1 div.sk-item::before, #sk-container-id-1 div.sk-parallel-item::before {content: \"\";position: absolute;border-left: 1px solid gray;box-sizing: border-box;top: 0;bottom: 0;left: 50%;z-index: -1;}#sk-container-id-1 div.sk-parallel-item {display: flex;flex-direction: column;z-index: 1;position: relative;background-color: white;}#sk-container-id-1 div.sk-parallel-item:first-child::after {align-self: flex-end;width: 50%;}#sk-container-id-1 div.sk-parallel-item:last-child::after {align-self: flex-start;width: 50%;}#sk-container-id-1 div.sk-parallel-item:only-child::after {width: 0;}#sk-container-id-1 div.sk-dashed-wrapped {border: 1px dashed gray;margin: 0 0.4em 0.5em 0.4em;box-sizing: border-box;padding-bottom: 0.4em;background-color: white;}#sk-container-id-1 div.sk-label label {font-family: monospace;font-weight: bold;display: inline-block;line-height: 1.2em;}#sk-container-id-1 div.sk-label-container {text-align: center;}#sk-container-id-1 div.sk-container {/* jupyter's `normalize.less` sets `[hidden] { display: none; }` but bootstrap.min.css set `[hidden] { display: none !important; }` so we also need the `!important` here to be able to override the default hidden behavior on the sphinx rendered scikit-learn.org. See: https://github.com/scikit-learn/scikit-learn/issues/21755 */display: inline-block !important;position: relative;}#sk-container-id-1 div.sk-text-repr-fallback {display: none;}</style><div id=\"sk-container-id-1\" class=\"sk-top-container\"><div class=\"sk-text-repr-fallback\"><pre>TfidfVectorizer(max_features=2000)</pre><b>In a Jupyter environment, please rerun this cell to show the HTML representation or trust the notebook. <br />On GitHub, the HTML representation is unable to render, please try loading this page with nbviewer.org.</b></div><div class=\"sk-container\" hidden><div class=\"sk-item\"><div class=\"sk-estimator sk-toggleable\"><input class=\"sk-toggleable__control sk-hidden--visually\" id=\"sk-estimator-id-1\" type=\"checkbox\" checked><label for=\"sk-estimator-id-1\" class=\"sk-toggleable__label sk-toggleable__label-arrow\">TfidfVectorizer</label><div class=\"sk-toggleable__content\"><pre>TfidfVectorizer(max_features=2000)</pre></div></div></div></div></div>"
      ],
      "text/plain": [
       "TfidfVectorizer(max_features=2000)"
      ]
     },
     "execution_count": 7,
     "metadata": {},
     "output_type": "execute_result"
    }
   ],
   "source": [
    "tfidf =  TfidfVectorizer(max_features=2000)\n",
    "tfidf"
   ]
  },
  {
   "cell_type": "code",
   "execution_count": 8,
   "metadata": {},
   "outputs": [
    {
     "data": {
      "text/plain": [
       "<1368x2000 sparse matrix of type '<class 'numpy.float64'>'\n",
       "\twith 61448 stored elements in Compressed Sparse Row format>"
      ]
     },
     "execution_count": 8,
     "metadata": {},
     "output_type": "execute_result"
    }
   ],
   "source": [
    "X = tfidf.fit_transform(data['string'])\n",
    "X"
   ]
  },
  {
   "cell_type": "code",
   "execution_count": 9,
   "metadata": {},
   "outputs": [
    {
     "data": {
      "text/plain": [
       "(1368, 2000)"
      ]
     },
     "execution_count": 9,
     "metadata": {},
     "output_type": "execute_result"
    }
   ],
   "source": [
    "X.shape"
   ]
  },
  {
   "cell_type": "code",
   "execution_count": 10,
   "metadata": {},
   "outputs": [
    {
     "data": {
      "text/plain": [
       "string\n",
       "Partner plank band row The partner plank band row is an abdominal exercise where two partners perform single-arm planks while pulling on the opposite ends of an exercise band. This technique can be done for time or reps in any ab-focused workout. Strength Abdominals Bands Intermediate                                                                                                                                                                    0\n",
       "Banded crunch isometric hold The banded crunch isometric hold is an exercise targeting the abdominal muscles, particularly the rectus abdominis or \"six-pack\" muscles. The band adds resistance and continuous tension to this popular exercise. Strength Abdominals Bands Intermediate                                                                                                                                                                          1\n",
       "FYR Banded Plank Jack The banded plank jack is a variation on the plank that involves moving the legs in and out for repetitions. Having a band around the thighs forces the lower body to work harder, particularly the hips and glutes. The plank jack is commonly performed as part of a bodyweight circuit, or as part of a dynamic warm-up. Strength Abdominals Bands Intermediate                                                                          2\n",
       "Banded crunch The banded crunch is an exercise targeting the abdominal muscles, particularly the rectus abdominis or \"six-pack\" muscles. The band adds resistance and continuous tension to this popular exercise. Strength Abdominals Bands Intermediate                                                                                                                                                                                                        3\n",
       "Crunch The crunch is a popular core exercise targeting the rectus abdominis, or \"six-pack\" muscles, as well as the obliques. It has been the centerpiece of many ab-focused workouts, due to both its simplicity and the intense burn and mind-muscle connection it produces. It can be performed for time or reps as part of the ab-focused portion of any workout. Strength Abdominals Bands Intermediate                                                      4\n",
       "                                                                                                                                                                                                                                                                                                                                                                                                                                                              ... \n",
       "Decline EZ-bar skullcrusher The decline EZ-bar skullcrusher is a popular exercise targeting the triceps muscles. The angle of the bench creates a greater range of motion than flat bench skullcrushers, as well as targeting the lateral head of the muscle. This exercise is usually performed for moderate to high reps as part of an upper-body or arm-focused workout. Strength Triceps E-Z Curl Bar Intermediate                                        1363\n",
       "EZ-Bar Skullcrusher The EZ-bar skullcrusher is a popular exercise targeting the triceps muscles. The EZ-bar is used more often than a straight bar. As for the name, that’s worst-case scenario. The bar should actually come down behind the head. It is usually performed for moderate to high reps as part of an upper body or arms-focused workout. No need to chase a 1RM on this move! Strength Triceps E-Z Curl Bar Intermediate                       1364\n",
       "EZ-bar skullcrusher- The EZ-bar skullcrusher is a popular exercise targeting the triceps muscles. Contrary to what the name implies, the bar should actually come down behind the head. It is usually performed for moderate to high reps as part of an upper-body or arms-focused workout. Strength Triceps E-Z Curl Bar Intermediate                                                                                                                        1365\n",
       "EZ-Bar Skullcrusher - Gethin Variation The EZ-bar skullcrusher is a popular exercise targeting the triceps muscles. The EZ-bar is used more often than a straight bar. As for the name, that’s worst-case scenario. The bar should actually come down behind the head. It is usually performed for moderate to high reps as part of an upper body or arms-focused workout. No need to chase a 1RM on this move! Strength Triceps E-Z Curl Bar Intermediate    1366\n",
       "TBS Skullcrusher The EZ-bar skullcrusher is a popular exercise targeting the triceps muscles. The EZ-bar is used more often than a straight bar. As for the name, that’s worst-case scenario. The bar should actually come down behind the head. It is usually performed for moderate to high reps as part of an upper body or arms-focused workout. No need to chase a 1RM on this move! Strength Triceps E-Z Curl Bar Intermediate                          1367\n",
       "Length: 1368, dtype: int64"
      ]
     },
     "execution_count": 10,
     "metadata": {},
     "output_type": "execute_result"
    }
   ],
   "source": [
    "# Mapping to be generated\n",
    "exercisetoidx = pd.Series(data.index,index= data['string'])\n",
    "exercisetoidx"
   ]
  },
  {
   "cell_type": "code",
   "execution_count": 11,
   "metadata": {},
   "outputs": [
    {
     "ename": "KeyError",
     "evalue": "'FYR Banded Plank Jack Strength Abdominals Bands Intermediate'",
     "output_type": "error",
     "traceback": [
      "\u001b[1;31m---------------------------------------------------------------------------\u001b[0m",
      "\u001b[1;31mKeyError\u001b[0m                                  Traceback (most recent call last)",
      "File \u001b[1;32mc:\\Users\\Yash Phatak\\AppData\\Local\\Programs\\Python\\Python311\\Lib\\site-packages\\pandas\\core\\indexes\\base.py:3652\u001b[0m, in \u001b[0;36mIndex.get_loc\u001b[1;34m(self, key)\u001b[0m\n\u001b[0;32m   3651\u001b[0m \u001b[38;5;28;01mtry\u001b[39;00m:\n\u001b[1;32m-> 3652\u001b[0m     \u001b[38;5;28;01mreturn\u001b[39;00m \u001b[38;5;28;43mself\u001b[39;49m\u001b[38;5;241;43m.\u001b[39;49m\u001b[43m_engine\u001b[49m\u001b[38;5;241;43m.\u001b[39;49m\u001b[43mget_loc\u001b[49m\u001b[43m(\u001b[49m\u001b[43mcasted_key\u001b[49m\u001b[43m)\u001b[49m\n\u001b[0;32m   3653\u001b[0m \u001b[38;5;28;01mexcept\u001b[39;00m \u001b[38;5;167;01mKeyError\u001b[39;00m \u001b[38;5;28;01mas\u001b[39;00m err:\n",
      "File \u001b[1;32mc:\\Users\\Yash Phatak\\AppData\\Local\\Programs\\Python\\Python311\\Lib\\site-packages\\pandas\\_libs\\index.pyx:147\u001b[0m, in \u001b[0;36mpandas._libs.index.IndexEngine.get_loc\u001b[1;34m()\u001b[0m\n",
      "File \u001b[1;32mc:\\Users\\Yash Phatak\\AppData\\Local\\Programs\\Python\\Python311\\Lib\\site-packages\\pandas\\_libs\\index.pyx:171\u001b[0m, in \u001b[0;36mpandas._libs.index.IndexEngine.get_loc\u001b[1;34m()\u001b[0m\n",
      "File \u001b[1;32mc:\\Users\\Yash Phatak\\AppData\\Local\\Programs\\Python\\Python311\\Lib\\site-packages\\pandas\\_libs\\index.pyx:214\u001b[0m, in \u001b[0;36mpandas._libs.index.IndexEngine._get_loc_duplicates\u001b[1;34m()\u001b[0m\n",
      "File \u001b[1;32mc:\\Users\\Yash Phatak\\AppData\\Local\\Programs\\Python\\Python311\\Lib\\site-packages\\pandas\\_libs\\index.pyx:222\u001b[0m, in \u001b[0;36mpandas._libs.index.IndexEngine._maybe_get_bool_indexer\u001b[1;34m()\u001b[0m\n",
      "File \u001b[1;32mc:\\Users\\Yash Phatak\\AppData\\Local\\Programs\\Python\\Python311\\Lib\\site-packages\\pandas\\_libs\\index.pyx:114\u001b[0m, in \u001b[0;36mpandas._libs.index._unpack_bool_indexer\u001b[1;34m()\u001b[0m\n",
      "\u001b[1;31mKeyError\u001b[0m: 'FYR Banded Plank Jack Strength Abdominals Bands Intermediate'",
      "\nThe above exception was the direct cause of the following exception:\n",
      "\u001b[1;31mKeyError\u001b[0m                                  Traceback (most recent call last)",
      "Cell \u001b[1;32mIn[11], line 1\u001b[0m\n\u001b[1;32m----> 1\u001b[0m idx \u001b[38;5;241m=\u001b[39m \u001b[43mexercisetoidx\u001b[49m\u001b[43m[\u001b[49m\u001b[38;5;124;43m'\u001b[39;49m\u001b[38;5;124;43mFYR Banded Plank Jack Strength Abdominals Bands Intermediate\u001b[39;49m\u001b[38;5;124;43m'\u001b[39;49m\u001b[43m]\u001b[49m\n\u001b[0;32m      2\u001b[0m idx\n",
      "File \u001b[1;32mc:\\Users\\Yash Phatak\\AppData\\Local\\Programs\\Python\\Python311\\Lib\\site-packages\\pandas\\core\\series.py:1007\u001b[0m, in \u001b[0;36mSeries.__getitem__\u001b[1;34m(self, key)\u001b[0m\n\u001b[0;32m   1004\u001b[0m     \u001b[38;5;28;01mreturn\u001b[39;00m \u001b[38;5;28mself\u001b[39m\u001b[38;5;241m.\u001b[39m_values[key]\n\u001b[0;32m   1006\u001b[0m \u001b[38;5;28;01melif\u001b[39;00m key_is_scalar:\n\u001b[1;32m-> 1007\u001b[0m     \u001b[38;5;28;01mreturn\u001b[39;00m \u001b[38;5;28;43mself\u001b[39;49m\u001b[38;5;241;43m.\u001b[39;49m\u001b[43m_get_value\u001b[49m\u001b[43m(\u001b[49m\u001b[43mkey\u001b[49m\u001b[43m)\u001b[49m\n\u001b[0;32m   1009\u001b[0m \u001b[38;5;28;01mif\u001b[39;00m is_hashable(key):\n\u001b[0;32m   1010\u001b[0m     \u001b[38;5;66;03m# Otherwise index.get_value will raise InvalidIndexError\u001b[39;00m\n\u001b[0;32m   1011\u001b[0m     \u001b[38;5;28;01mtry\u001b[39;00m:\n\u001b[0;32m   1012\u001b[0m         \u001b[38;5;66;03m# For labels that don't resolve as scalars like tuples and frozensets\u001b[39;00m\n",
      "File \u001b[1;32mc:\\Users\\Yash Phatak\\AppData\\Local\\Programs\\Python\\Python311\\Lib\\site-packages\\pandas\\core\\series.py:1116\u001b[0m, in \u001b[0;36mSeries._get_value\u001b[1;34m(self, label, takeable)\u001b[0m\n\u001b[0;32m   1113\u001b[0m     \u001b[38;5;28;01mreturn\u001b[39;00m \u001b[38;5;28mself\u001b[39m\u001b[38;5;241m.\u001b[39m_values[label]\n\u001b[0;32m   1115\u001b[0m \u001b[38;5;66;03m# Similar to Index.get_value, but we do not fall back to positional\u001b[39;00m\n\u001b[1;32m-> 1116\u001b[0m loc \u001b[38;5;241m=\u001b[39m \u001b[38;5;28;43mself\u001b[39;49m\u001b[38;5;241;43m.\u001b[39;49m\u001b[43mindex\u001b[49m\u001b[38;5;241;43m.\u001b[39;49m\u001b[43mget_loc\u001b[49m\u001b[43m(\u001b[49m\u001b[43mlabel\u001b[49m\u001b[43m)\u001b[49m\n\u001b[0;32m   1118\u001b[0m \u001b[38;5;28;01mif\u001b[39;00m is_integer(loc):\n\u001b[0;32m   1119\u001b[0m     \u001b[38;5;28;01mreturn\u001b[39;00m \u001b[38;5;28mself\u001b[39m\u001b[38;5;241m.\u001b[39m_values[loc]\n",
      "File \u001b[1;32mc:\\Users\\Yash Phatak\\AppData\\Local\\Programs\\Python\\Python311\\Lib\\site-packages\\pandas\\core\\indexes\\base.py:3654\u001b[0m, in \u001b[0;36mIndex.get_loc\u001b[1;34m(self, key)\u001b[0m\n\u001b[0;32m   3652\u001b[0m     \u001b[38;5;28;01mreturn\u001b[39;00m \u001b[38;5;28mself\u001b[39m\u001b[38;5;241m.\u001b[39m_engine\u001b[38;5;241m.\u001b[39mget_loc(casted_key)\n\u001b[0;32m   3653\u001b[0m \u001b[38;5;28;01mexcept\u001b[39;00m \u001b[38;5;167;01mKeyError\u001b[39;00m \u001b[38;5;28;01mas\u001b[39;00m err:\n\u001b[1;32m-> 3654\u001b[0m     \u001b[38;5;28;01mraise\u001b[39;00m \u001b[38;5;167;01mKeyError\u001b[39;00m(key) \u001b[38;5;28;01mfrom\u001b[39;00m \u001b[38;5;21;01merr\u001b[39;00m\n\u001b[0;32m   3655\u001b[0m \u001b[38;5;28;01mexcept\u001b[39;00m \u001b[38;5;167;01mTypeError\u001b[39;00m:\n\u001b[0;32m   3656\u001b[0m     \u001b[38;5;66;03m# If we have a listlike key, _check_indexing_error will raise\u001b[39;00m\n\u001b[0;32m   3657\u001b[0m     \u001b[38;5;66;03m#  InvalidIndexError. Otherwise we fall through and re-raise\u001b[39;00m\n\u001b[0;32m   3658\u001b[0m     \u001b[38;5;66;03m#  the TypeError.\u001b[39;00m\n\u001b[0;32m   3659\u001b[0m     \u001b[38;5;28mself\u001b[39m\u001b[38;5;241m.\u001b[39m_check_indexing_error(key)\n",
      "\u001b[1;31mKeyError\u001b[0m: 'FYR Banded Plank Jack Strength Abdominals Bands Intermediate'"
     ]
    }
   ],
   "source": [
    "idx = exercisetoidx['FYR Banded Plank Jack Strength Abdominals Bands Intermediate']\n",
    "idx"
   ]
  },
  {
   "cell_type": "code",
   "execution_count": null,
   "metadata": {},
   "outputs": [
    {
     "data": {
      "text/plain": [
       "<1x531 sparse matrix of type '<class 'numpy.float64'>'\n",
       "\twith 8 stored elements in Compressed Sparse Row format>"
      ]
     },
     "execution_count": 35,
     "metadata": {},
     "output_type": "execute_result"
    }
   ],
   "source": [
    "# Accessing the vector corresponding to the exercise address\n",
    "query = X[idx]\n",
    "query"
   ]
  },
  {
   "cell_type": "code",
   "execution_count": null,
   "metadata": {},
   "outputs": [
    {
     "data": {
      "text/plain": [
       "array([[0.        , 0.        , 0.        , 0.        , 0.2139443 ,\n",
       "        0.        , 0.        , 0.        , 0.        , 0.        ,\n",
       "        0.        , 0.        , 0.        , 0.        , 0.        ,\n",
       "        0.        , 0.        , 0.        , 0.        , 0.        ,\n",
       "        0.        , 0.        , 0.        , 0.        , 0.        ,\n",
       "        0.        , 0.        , 0.        , 0.        , 0.        ,\n",
       "        0.        , 0.        , 0.        , 0.        , 0.        ,\n",
       "        0.48678792, 0.36401445, 0.        , 0.        , 0.        ,\n",
       "        0.        , 0.        , 0.        , 0.        , 0.        ,\n",
       "        0.        , 0.        , 0.        , 0.        , 0.        ,\n",
       "        0.        , 0.        , 0.        , 0.        , 0.        ,\n",
       "        0.        , 0.        , 0.        , 0.        , 0.        ,\n",
       "        0.        , 0.        , 0.        , 0.        , 0.        ,\n",
       "        0.        , 0.        , 0.        , 0.        , 0.        ,\n",
       "        0.        , 0.        , 0.        , 0.        , 0.        ,\n",
       "        0.        , 0.        , 0.        , 0.        , 0.        ,\n",
       "        0.        , 0.        , 0.        , 0.        , 0.        ,\n",
       "        0.        , 0.        , 0.        , 0.        , 0.        ,\n",
       "        0.        , 0.        , 0.        , 0.        , 0.        ,\n",
       "        0.        , 0.        , 0.        , 0.        , 0.        ,\n",
       "        0.        , 0.        , 0.        , 0.        , 0.        ,\n",
       "        0.        , 0.        , 0.        , 0.        , 0.        ,\n",
       "        0.        , 0.        , 0.        , 0.        , 0.        ,\n",
       "        0.        , 0.        , 0.        , 0.        , 0.        ,\n",
       "        0.        , 0.        , 0.        , 0.        , 0.        ,\n",
       "        0.        , 0.        , 0.        , 0.        , 0.        ,\n",
       "        0.        , 0.        , 0.        , 0.        , 0.        ,\n",
       "        0.        , 0.        , 0.        , 0.        , 0.        ,\n",
       "        0.        , 0.        , 0.        , 0.        , 0.        ,\n",
       "        0.        , 0.        , 0.        , 0.        , 0.        ,\n",
       "        0.        , 0.        , 0.        , 0.        , 0.        ,\n",
       "        0.        , 0.        , 0.        , 0.        , 0.        ,\n",
       "        0.        , 0.        , 0.        , 0.        , 0.        ,\n",
       "        0.        , 0.        , 0.        , 0.        , 0.        ,\n",
       "        0.        , 0.        , 0.        , 0.        , 0.        ,\n",
       "        0.        , 0.        , 0.        , 0.        , 0.        ,\n",
       "        0.        , 0.        , 0.        , 0.37849231, 0.        ,\n",
       "        0.        , 0.        , 0.        , 0.        , 0.        ,\n",
       "        0.        , 0.        , 0.        , 0.        , 0.        ,\n",
       "        0.        , 0.        , 0.        , 0.        , 0.        ,\n",
       "        0.        , 0.        , 0.        , 0.        , 0.        ,\n",
       "        0.        , 0.        , 0.        , 0.        , 0.        ,\n",
       "        0.        , 0.        , 0.        , 0.        , 0.        ,\n",
       "        0.        , 0.        , 0.        , 0.        , 0.        ,\n",
       "        0.        , 0.        , 0.        , 0.        , 0.        ,\n",
       "        0.        , 0.        , 0.09249995, 0.        , 0.        ,\n",
       "        0.        , 0.        , 0.51119822, 0.        , 0.        ,\n",
       "        0.        , 0.        , 0.        , 0.        , 0.        ,\n",
       "        0.        , 0.        , 0.        , 0.        , 0.        ,\n",
       "        0.        , 0.        , 0.        , 0.        , 0.        ,\n",
       "        0.        , 0.        , 0.        , 0.        , 0.        ,\n",
       "        0.        , 0.        , 0.        , 0.        , 0.        ,\n",
       "        0.        , 0.        , 0.        , 0.        , 0.        ,\n",
       "        0.        , 0.        , 0.        , 0.        , 0.        ,\n",
       "        0.        , 0.        , 0.        , 0.        , 0.        ,\n",
       "        0.        , 0.        , 0.        , 0.        , 0.        ,\n",
       "        0.        , 0.        , 0.        , 0.        , 0.        ,\n",
       "        0.        , 0.        , 0.        , 0.        , 0.        ,\n",
       "        0.        , 0.        , 0.        , 0.        , 0.        ,\n",
       "        0.        , 0.        , 0.        , 0.        , 0.        ,\n",
       "        0.        , 0.        , 0.        , 0.        , 0.        ,\n",
       "        0.        , 0.        , 0.        , 0.        , 0.        ,\n",
       "        0.        , 0.        , 0.        , 0.        , 0.        ,\n",
       "        0.        , 0.        , 0.        , 0.40356294, 0.        ,\n",
       "        0.        , 0.        , 0.        , 0.        , 0.        ,\n",
       "        0.        , 0.        , 0.        , 0.        , 0.        ,\n",
       "        0.        , 0.        , 0.        , 0.        , 0.        ,\n",
       "        0.        , 0.        , 0.        , 0.        , 0.        ,\n",
       "        0.        , 0.        , 0.        , 0.        , 0.        ,\n",
       "        0.        , 0.        , 0.        , 0.        , 0.        ,\n",
       "        0.        , 0.        , 0.        , 0.        , 0.        ,\n",
       "        0.        , 0.        , 0.        , 0.        , 0.        ,\n",
       "        0.        , 0.        , 0.        , 0.        , 0.        ,\n",
       "        0.        , 0.        , 0.        , 0.        , 0.        ,\n",
       "        0.        , 0.        , 0.        , 0.        , 0.        ,\n",
       "        0.        , 0.        , 0.        , 0.        , 0.        ,\n",
       "        0.        , 0.        , 0.        , 0.        , 0.        ,\n",
       "        0.        , 0.        , 0.        , 0.        , 0.        ,\n",
       "        0.        , 0.        , 0.        , 0.        , 0.        ,\n",
       "        0.        , 0.        , 0.        , 0.        , 0.        ,\n",
       "        0.        , 0.        , 0.        , 0.        , 0.        ,\n",
       "        0.        , 0.        , 0.        , 0.        , 0.        ,\n",
       "        0.        , 0.        , 0.        , 0.        , 0.        ,\n",
       "        0.        , 0.        , 0.        , 0.        , 0.        ,\n",
       "        0.        , 0.        , 0.        , 0.        , 0.        ,\n",
       "        0.        , 0.        , 0.        , 0.        , 0.        ,\n",
       "        0.        , 0.        , 0.        , 0.        , 0.        ,\n",
       "        0.        , 0.        , 0.        , 0.        , 0.        ,\n",
       "        0.        , 0.09359219, 0.        , 0.        , 0.        ,\n",
       "        0.        , 0.        , 0.        , 0.        , 0.        ,\n",
       "        0.        , 0.        , 0.        , 0.        , 0.        ,\n",
       "        0.        , 0.        , 0.        , 0.        , 0.        ,\n",
       "        0.        , 0.        , 0.        , 0.        , 0.        ,\n",
       "        0.        , 0.        , 0.        , 0.        , 0.        ,\n",
       "        0.        , 0.        , 0.        , 0.        , 0.        ,\n",
       "        0.        , 0.        , 0.        , 0.        , 0.        ,\n",
       "        0.        , 0.        , 0.        , 0.        , 0.        ,\n",
       "        0.        , 0.        , 0.        , 0.        , 0.        ,\n",
       "        0.        , 0.        , 0.        , 0.        , 0.        ,\n",
       "        0.        , 0.        , 0.        , 0.        , 0.        ,\n",
       "        0.        , 0.        , 0.        , 0.        , 0.        ,\n",
       "        0.        , 0.        , 0.        , 0.        , 0.        ,\n",
       "        0.        , 0.        , 0.        , 0.        , 0.        ,\n",
       "        0.        , 0.        , 0.        , 0.        , 0.        ,\n",
       "        0.        , 0.        , 0.        , 0.        , 0.        ,\n",
       "        0.        , 0.        , 0.        , 0.        , 0.        ,\n",
       "        0.        ]])"
      ]
     },
     "execution_count": 36,
     "metadata": {},
     "output_type": "execute_result"
    }
   ],
   "source": [
    "query.toarray()"
   ]
  },
  {
   "cell_type": "code",
   "execution_count": null,
   "metadata": {},
   "outputs": [
    {
     "data": {
      "text/plain": [
       "array([[0.39440585, 0.41366295, 1.        , ..., 0.01634914, 0.01520627,\n",
       "        0.02012108]])"
      ]
     },
     "execution_count": 37,
     "metadata": {},
     "output_type": "execute_result"
    }
   ],
   "source": [
    "# Comparing the query to every vector in X \n",
    "scores =  cosine_similarity(query,X,dense_output=True)\n",
    "scores"
   ]
  },
  {
   "cell_type": "code",
   "execution_count": null,
   "metadata": {},
   "outputs": [],
   "source": [
    "scores = scores.flatten()"
   ]
  },
  {
   "cell_type": "code",
   "execution_count": null,
   "metadata": {},
   "outputs": [
    {
     "data": {
      "image/png": "[encoded data removed]",
      "text/plain": [
       "<Figure size 640x480 with 1 Axes>"
      ]
     },
     "metadata": {},
     "output_type": "display_data"
    }
   ],
   "source": [
    "plt.plot(scores);"
   ]
  },
  {
   "cell_type": "code",
   "execution_count": null,
   "metadata": {},
   "outputs": [
    {
     "data": {
      "text/plain": [
       "array([  2, 147,   3, ..., 670, 672, 317], dtype=int64)"
      ]
     },
     "execution_count": 40,
     "metadata": {},
     "output_type": "execute_result"
    }
   ],
   "source": [
    "(-scores).argsort()"
   ]
  },
  {
   "cell_type": "code",
   "execution_count": null,
   "metadata": {},
   "outputs": [
    {
     "data": {
      "image/png": "[encoded data removed]",
      "text/plain": [
       "<Figure size 640x480 with 1 Axes>"
      ]
     },
     "metadata": {},
     "output_type": "display_data"
    }
   ],
   "source": [
    "plt.plot(scores[(-scores).argsort()]);"
   ]
  },
  {
   "cell_type": "code",
   "execution_count": 138,
   "metadata": {},
   "outputs": [],
   "source": [
    "# Final Function\n",
    "def recommend(text,tfidf,X,data):\n",
    "    recommendations = []\n",
    "    user_tfidf = tfidf.transform([text])\n",
    "    scores = cosine_similarity(user_tfidf,X).flatten()\n",
    "    recommend_idx = (-scores).argsort()[:10]\n",
    "    for idx in recommend_idx:\n",
    "        name = data['Title'].iloc[idx]\n",
    "        desc = data['Desc'].iloc[idx]\n",
    "        target_muscle = data['BodyPart'].iloc[idx]\n",
    "        level = data['Level'].iloc[idx]\n",
    "        type = data['Type'].iloc[idx]\n",
    "        equipment = data['Equipment'].iloc[idx]\n",
    "        recommendations.append({\"name\":name,\"desc\":desc,\"target_muscle\":target_muscle,\"level\":level,\"type\":type,\"equipment\":equipment})\n",
    "    return recommendations"
   ]
  },
  {
   "cell_type": "code",
   "execution_count": 150,
   "metadata": {},
   "outputs": [
    {
     "data": {
      "text/plain": [
       "[{'name': 'Partner plank band row',\n",
       "  'desc': 'The partner plank band row is an abdominal exercise where two partners perform single-arm planks while pulling on the opposite ends of an exercise band. This technique can be done for time or reps in any ab-focused workout.',\n",
       "  'target_muscle': 'Abdominals',\n",
       "  'level': 'Intermediate',\n",
       "  'type': 'Strength',\n",
       "  'equipment': 'Bands'},\n",
       " {'name': 'Kettlebell power clean',\n",
       "  'desc': 'The kettlebell power clean is an explosive kettlebell exercise where the lifter pulls the weight to shoulder level with a slight swing between the legs. It is often used as a drill to teach kettlebell clean technique, but is also a valuable power exercise in its own right. It can be performed in low rep ranges for strength or higher rep ranges for technique practice or muscle growth.',\n",
       "  'target_muscle': 'Quadriceps',\n",
       "  'level': 'Intermediate',\n",
       "  'type': 'Strength',\n",
       "  'equipment': 'Kettlebells'},\n",
       " {'name': 'Kettlebell thruster progression',\n",
       "  'desc': 'The kettlebell thruster progression is a kettlebell combination movement that includes a squat, curl, press, and overhead extension in a single sequence. It can work well with a light or moderate weight either for time or reps, in circuit-style training, or as a single kettlebell \"flow.\"',\n",
       "  'target_muscle': 'Quadriceps',\n",
       "  'level': 'Intermediate',\n",
       "  'type': 'Strength',\n",
       "  'equipment': 'Kettlebells'},\n",
       " {'name': 'Kettlebell sumo squat',\n",
       "  'desc': 'The kettlebell sumo squat is a lower-body movement emphasizing the muscles of the hips, glutes, and quads. It shares attributes with both the kettlebell deadlift and the goblet squat, but is usually performed with a wider stance and the feet pointed more outward, similar to a sumo deadlift. Its unique stance helps the lifter keep an upright torso, as well as emphasize stretching the hips and adductor muscles.',\n",
       "  'target_muscle': 'Quadriceps',\n",
       "  'level': 'Intermediate',\n",
       "  'type': 'Strength',\n",
       "  'equipment': 'Kettlebells'},\n",
       " {'name': 'Kettlebell side squat',\n",
       "  'desc': 'The kettlebell side squat is a popular movement to build mobility and lateral strength in the hips. It can be performed for time or for reps, either on its own or as part of a kettlebell circuit, complex, or flow.',\n",
       "  'target_muscle': 'Quadriceps',\n",
       "  'level': 'Intermediate',\n",
       "  'type': 'Strength',\n",
       "  'equipment': 'Kettlebells'},\n",
       " {'name': 'Single-arm kettlebell overhead squat',\n",
       "  'desc': 'The single-arm kettlebell overhead squat is a popular kettlebell movement performed while holding a single kettlebell in a locked-out overhead position. It targets the muscles of the lower body dynamically, while also challenging and building shoulder stability and upper-back mobility. It can be trained in traditional strength or muscle-building rep ranges, in circuit or fat-loss training, or as part of a kettlebell combination or complex.',\n",
       "  'target_muscle': 'Quadriceps',\n",
       "  'level': 'Expert',\n",
       "  'type': 'Strength',\n",
       "  'equipment': 'Kettlebells'},\n",
       " {'name': 'Goblet Squat',\n",
       "  'desc': 'The goblet squat is a popular lower-body exercise where you hold a kettlebell or dumbbell in front of your chest as if you are supporting a heavy cup or goblet. It can help lifters of all levels improve their squat technique and hip mobility, but can also work as a muscle-building or strength accessory movement for experienced athletes. It also works well in combinations, complexes, and flows with other kettlebell movements like swings, presses, and cleans.',\n",
       "  'target_muscle': 'Quadriceps',\n",
       "  'level': 'Intermediate',\n",
       "  'type': 'Strength',\n",
       "  'equipment': 'Kettlebells'},\n",
       " {'name': 'King Maker Barbell Deadlift',\n",
       "  'desc': 'The barbell deadlift is a compound exercise used to develop overall strength and size in the posterior chain. It is a competition lift in the sport of powerlifting, but is also considered a classic benchmark of overall strength. When performed with the hands outside the knees, it is often called a \"conventional\" deadlift. When the feet are wide and the hands are inside the knees, it is a sumo deadlift.',\n",
       "  'target_muscle': 'Quadriceps',\n",
       "  'level': 'Intermediate',\n",
       "  'type': 'Strength',\n",
       "  'equipment': 'Barbell'},\n",
       " {'name': 'King Maker Barbell Back Squat',\n",
       "  'desc': \"The barbell back squat is a popular compound movement that emphasizes building the lower-body muscle groups and overall strength. It's the classic way to start a leg day, and is a worthy centerpiece to a lower-body training program. The squat is a competitive lift in the sport of powerlifting, but is also a classic measurement of lower-body strength. With the barbell racked on the traps or upper back, the emphasis is placed on the posterior chain but the entire body gets worked. The back squat can be trained in everything from heavy singles to sets of 20 reps or higher.\",\n",
       "  'target_muscle': 'Quadriceps',\n",
       "  'level': 'Intermediate',\n",
       "  'type': 'Strength',\n",
       "  'equipment': 'Barbell'},\n",
       " {'name': 'UP Squat',\n",
       "  'desc': \"The barbell back squat is a popular compound movement that emphasizes building the lower-body muscle groups and overall strength. It's the classic way to start a leg day, and is a worthy centerpiece to a lower-body training program. The squat is a competitive lift in the sport of powerlifting, but is also a classic measurement of lower-body strength. With the barbell racked on the traps or upper back, the emphasis is placed on the posterior chain but the entire body gets worked. The back squat can be trained in everything from heavy singles to sets of 20 reps or higher.\",\n",
       "  'target_muscle': 'Quadriceps',\n",
       "  'level': 'Intermediate',\n",
       "  'type': 'Strength',\n",
       "  'equipment': 'Barbell'}]"
      ]
     },
     "execution_count": 150,
     "metadata": {},
     "output_type": "execute_result"
    }
   ],
   "source": [
    "exercise = input(\"String of user : \")\n",
    "recommend(exercise,tfidf,X,data)"
   ]
  },
  {
   "cell_type": "code",
   "execution_count": 140,
   "metadata": {},
   "outputs": [
    {
     "data": {
      "text/plain": [
       "{'uid': 'YASH',\n",
       " 'target_muscle': ['Abdominals', 'Chest', 'Lats'],\n",
       " 'level': 'Beginner',\n",
       " 'type': ['Strength', 'Cardio']}"
      ]
     },
     "execution_count": 140,
     "metadata": {},
     "output_type": "execute_result"
    }
   ],
   "source": [
    "# Preprocessing the input structure\n",
    "with open('test.json','r') as file:\n",
    "    input_dict = json.load(file)\n",
    "input_dict"
   ]
  },
  {
   "cell_type": "code",
   "execution_count": 141,
   "metadata": {},
   "outputs": [
    {
     "name": "stdout",
     "output_type": "stream",
     "text": [
      "Abdominals Beginner Strength Cardio\n",
      "Chest Beginner Strength Cardio\n",
      "Lats Beginner Strength Cardio\n"
     ]
    }
   ],
   "source": [
    "input_list = [] # Contains all the list of input strings\n",
    "output_list = [] # Contains all the recommendations\n",
    "tm = list(input_dict.values())[1]\n",
    "for i in range(len(tm)):\n",
    "    input_string = tm[i] + \" \" + input_dict[\"level\"] + \" \" +' '.join(list(input_dict.values())[3])\n",
    "    output = recommend(input_string,tfidf,X,data)\n",
    "    output_list.append(output)\n",
    "    input_list.append(input_string)\n",
    "    print(input_string)"
   ]
  },
  {
   "cell_type": "code",
   "execution_count": 142,
   "metadata": {},
   "outputs": [],
   "source": [
    "output_list\n",
    "l = len(output_list)"
   ]
  },
  {
   "cell_type": "code",
   "execution_count": 143,
   "metadata": {},
   "outputs": [
    {
     "data": {
      "text/plain": [
       "{'uid': 'YASH',\n",
       " 'monday': [{'name': 'High knees',\n",
       "   'desc': 'High knees is a full-body, cardio-based exercise with an emphasis on the lower body. It is often performed for reps or time as part of a dynamic warm-up.',\n",
       "   'target_muscle': 'Quadriceps',\n",
       "   'level': 'Intermediate',\n",
       "   'type': 'Cardio',\n",
       "   'equipment': 'Body Only'},\n",
       "  {'name': 'Stairmaster',\n",
       "   'desc': 'The stair climber is a popular cardio machine found in most commercial gyms. Along with burning a ton of calories, the stair climber also helps build strength in the lower body, especially the glutes. It can work well at higher speeds for interval-style conditioning training, but also works well at slower paces for steady-state cardio.',\n",
       "   'target_muscle': 'Quadriceps',\n",
       "   'level': 'Intermediate',\n",
       "   'type': 'Cardio',\n",
       "   'equipment': 'Machine'},\n",
       "  {'name': 'Stair climber',\n",
       "   'desc': 'The stair climber is a popular cardio machine found in most commercial gyms. Along with burning a ton of calories, the stair climber also helps build strength in the lower body, especially the glutes. It can work well at higher speeds for interval-style conditioning training, but also works well at slower paces for steady-state cardio.',\n",
       "   'target_muscle': 'Quadriceps',\n",
       "   'level': 'Intermediate',\n",
       "   'type': 'Cardio',\n",
       "   'equipment': 'Machine'},\n",
       "  {'name': 'Shadow boxing',\n",
       "   'desc': 'Shadow boxing is an exercise typically used in combat sports and fighting. However, it can also make a great cardio session for anyone to implement in a fast-paced circuit or as active rest. It is usually performed for time or rounds.',\n",
       "   'target_muscle': 'Shoulders',\n",
       "   'level': 'Intermediate',\n",
       "   'type': 'Cardio',\n",
       "   'equipment': 'Body Only'},\n",
       "  {'name': 'FYR Progressive High Knee',\n",
       "   'desc': 'High knees is a full-body, cardio-based exercise with an emphasis on the lower body. It is often performed for reps or time as part of a dynamic warm-up.',\n",
       "   'target_muscle': 'Glutes',\n",
       "   'level': 'Intermediate',\n",
       "   'type': 'Strength',\n",
       "   'equipment': 'Body Only'},\n",
       "  {'name': 'Leg Pull-In',\n",
       "   'desc': 'The reverse crunch is a popular exercise targeting the abdominals, particularly the lower half. It’s easy to perform on either the floor or a flat bench. Many lifters think of this as a companion to the crunch, which targets the upper abdominals more than the lower.',\n",
       "   'target_muscle': 'Abdominals',\n",
       "   'level': 'Beginner',\n",
       "   'type': 'Strength',\n",
       "   'equipment': 'Body Only'},\n",
       "  {'name': 'Cable reverse crunch',\n",
       "   'desc': 'The cable reverse crunch is performed on the ground facing away from a high pulley, which helps target the lower abdominals specifically.',\n",
       "   'target_muscle': 'Abdominals',\n",
       "   'level': 'Beginner',\n",
       "   'type': 'Strength',\n",
       "   'equipment': 'Cable'},\n",
       "  {'name': 'High knees sprawl drill',\n",
       "   'desc': 'The high knees sprawl drill is a full-body, cardio and strength-focused exercise. It can be performed for reps or time in a fast-paced circuit or other workout.',\n",
       "   'target_muscle': 'Quadriceps',\n",
       "   'level': 'Intermediate',\n",
       "   'type': 'Strength',\n",
       "   'equipment': 'Body Only'},\n",
       "  {'name': 'Stationary bike',\n",
       "   'desc': 'The stationary bike is a popular cardio machine found in most commercial gyms. Along with burning a ton of calories, the stationary bike also helps develop the lower body. Stationary bikes come in multiple variations, ranging from ones that resemble riding a bike, to recumbent bikes, to fan bikes that work both the arms and the legs. No matter the variation, a stationary bike can work well at higher speeds for interval-style conditioning training, but also works well at slower paces for steady-state cardio.',\n",
       "   'target_muscle': 'Quadriceps',\n",
       "   'level': 'Intermediate',\n",
       "   'type': 'Cardio',\n",
       "   'equipment': 'Machine'},\n",
       "  {'name': 'FYR Mountain Climber',\n",
       "   'desc': 'The mountain climber is a popular bodyweight exercise targeting the muscles of the core, as well as the shoulders, hips, and cardiovascular system. It involves lifting one knee to the chest at a time from a straight-arm plank position. It can be performed for time or reps as part of a dynamic warm-up, for bodyweight cardio or conditioning, or as no-equipment dynamic core training.',\n",
       "   'target_muscle': 'Abdominals',\n",
       "   'level': 'Intermediate',\n",
       "   'type': 'Strength',\n",
       "   'equipment': 'Body Only'}],\n",
       " 'tuesday': [{'name': 'High knees',\n",
       "   'desc': 'High knees is a full-body, cardio-based exercise with an emphasis on the lower body. It is often performed for reps or time as part of a dynamic warm-up.',\n",
       "   'target_muscle': 'Quadriceps',\n",
       "   'level': 'Intermediate',\n",
       "   'type': 'Cardio',\n",
       "   'equipment': 'Body Only'},\n",
       "  {'name': 'Leverage Chest Press',\n",
       "   'desc': 'The machine chest press is an upper body exercise targeting the pectoral muscles.',\n",
       "   'target_muscle': 'Chest',\n",
       "   'level': 'Beginner',\n",
       "   'type': 'Strength',\n",
       "   'equipment': 'Machine'},\n",
       "  {'name': 'Bodyweight Flyes',\n",
       "   'desc': 'The double-bar roll-out chest fly is a chest exercise that utilizes two rotating barbells as \"handles\" for a chest fly. It targets the muscles of the chest, but is also an intense core workout. It\\'s a tough movement that is usually performed in the chest-focused portion of a workout.',\n",
       "   'target_muscle': 'Chest',\n",
       "   'level': 'Beginner',\n",
       "   'type': 'Strength',\n",
       "   'equipment': 'E-Z Curl Bar'},\n",
       "  {'name': 'Stairmaster',\n",
       "   'desc': 'The stair climber is a popular cardio machine found in most commercial gyms. Along with burning a ton of calories, the stair climber also helps build strength in the lower body, especially the glutes. It can work well at higher speeds for interval-style conditioning training, but also works well at slower paces for steady-state cardio.',\n",
       "   'target_muscle': 'Quadriceps',\n",
       "   'level': 'Intermediate',\n",
       "   'type': 'Cardio',\n",
       "   'equipment': 'Machine'},\n",
       "  {'name': 'Stair climber',\n",
       "   'desc': 'The stair climber is a popular cardio machine found in most commercial gyms. Along with burning a ton of calories, the stair climber also helps build strength in the lower body, especially the glutes. It can work well at higher speeds for interval-style conditioning training, but also works well at slower paces for steady-state cardio.',\n",
       "   'target_muscle': 'Quadriceps',\n",
       "   'level': 'Intermediate',\n",
       "   'type': 'Cardio',\n",
       "   'equipment': 'Machine'},\n",
       "  {'name': 'Double-bar roll-out chest fly',\n",
       "   'desc': 'The double-bar roll-out chest fly is a chest exercise that utilizes two rotating barbells as \"handles\" for a chest fly. It targets the muscles of the chest, but is also an intense core workout. It\\'s a tough movement that is usually performed in the chest-focused portion of a workout.',\n",
       "   'target_muscle': 'Chest',\n",
       "   'level': 'Intermediate',\n",
       "   'type': 'Strength',\n",
       "   'equipment': 'Body Only'},\n",
       "  {'name': 'AM Chest Dips',\n",
       "   'desc': 'The chest dip is a chest-building exercise in which the lifter hangs between two parallel handles. Leaning the torso slightly forward shifts the emphasis from the triceps to the chest.',\n",
       "   'target_muscle': 'Chest',\n",
       "   'level': 'Intermediate',\n",
       "   'type': 'Strength',\n",
       "   'equipment': 'Body Only'},\n",
       "  {'name': 'Machine Seated Chest Press - Gethin Variation',\n",
       "   'desc': 'The machine chest press is an upper body exercise targeting the pectoral muscles.',\n",
       "   'target_muscle': 'Chest',\n",
       "   'level': 'Intermediate',\n",
       "   'type': 'Strength',\n",
       "   'equipment': 'Machine'},\n",
       "  {'name': 'Incline dumbbell chest fly',\n",
       "   'desc': 'The incline dumbbell chest fly is an upper-body exercise targeting the chest. Performing it at an incline helps to target the upper chest in particular, while limiting involvement of the shoulders. Fly variations are usually performed for moderate to high reps, such as 8-12 reps per set or more.',\n",
       "   'target_muscle': 'Chest',\n",
       "   'level': 'Intermediate',\n",
       "   'type': 'Strength',\n",
       "   'equipment': 'Dumbbell'},\n",
       "  {'name': 'Shadow boxing',\n",
       "   'desc': 'Shadow boxing is an exercise typically used in combat sports and fighting. However, it can also make a great cardio session for anyone to implement in a fast-paced circuit or as active rest. It is usually performed for time or rounds.',\n",
       "   'target_muscle': 'Shoulders',\n",
       "   'level': 'Intermediate',\n",
       "   'type': 'Cardio',\n",
       "   'equipment': 'Body Only'}],\n",
       " 'wednesday': [{'name': 'High knees',\n",
       "   'desc': 'High knees is a full-body, cardio-based exercise with an emphasis on the lower body. It is often performed for reps or time as part of a dynamic warm-up.',\n",
       "   'target_muscle': 'Quadriceps',\n",
       "   'level': 'Intermediate',\n",
       "   'type': 'Cardio',\n",
       "   'equipment': 'Body Only'},\n",
       "  {'name': 'Stairmaster',\n",
       "   'desc': 'The stair climber is a popular cardio machine found in most commercial gyms. Along with burning a ton of calories, the stair climber also helps build strength in the lower body, especially the glutes. It can work well at higher speeds for interval-style conditioning training, but also works well at slower paces for steady-state cardio.',\n",
       "   'target_muscle': 'Quadriceps',\n",
       "   'level': 'Intermediate',\n",
       "   'type': 'Cardio',\n",
       "   'equipment': 'Machine'},\n",
       "  {'name': 'Stair climber',\n",
       "   'desc': 'The stair climber is a popular cardio machine found in most commercial gyms. Along with burning a ton of calories, the stair climber also helps build strength in the lower body, especially the glutes. It can work well at higher speeds for interval-style conditioning training, but also works well at slower paces for steady-state cardio.',\n",
       "   'target_muscle': 'Quadriceps',\n",
       "   'level': 'Intermediate',\n",
       "   'type': 'Cardio',\n",
       "   'equipment': 'Machine'},\n",
       "  {'name': 'Leverage High Row',\n",
       "   'desc': 'The machine high row is an exercise targeting the lats and works the back overall.',\n",
       "   'target_muscle': 'Middle Back',\n",
       "   'level': 'Beginner',\n",
       "   'type': 'Strength',\n",
       "   'equipment': 'Machine'},\n",
       "  {'name': 'Incline Dumbbell Row - Gethin Variation',\n",
       "   'desc': 'The incline dumbbell row is an upper body isolation exercise targeting the lower lats and upper back muscles.',\n",
       "   'target_muscle': 'Lats',\n",
       "   'level': 'Intermediate',\n",
       "   'type': 'Strength',\n",
       "   'equipment': 'Dumbbell'},\n",
       "  {'name': 'Shadow boxing',\n",
       "   'desc': 'Shadow boxing is an exercise typically used in combat sports and fighting. However, it can also make a great cardio session for anyone to implement in a fast-paced circuit or as active rest. It is usually performed for time or rounds.',\n",
       "   'target_muscle': 'Shoulders',\n",
       "   'level': 'Intermediate',\n",
       "   'type': 'Cardio',\n",
       "   'equipment': 'Body Only'},\n",
       "  {'name': 'FYR Progressive High Knee',\n",
       "   'desc': 'High knees is a full-body, cardio-based exercise with an emphasis on the lower body. It is often performed for reps or time as part of a dynamic warm-up.',\n",
       "   'target_muscle': 'Glutes',\n",
       "   'level': 'Intermediate',\n",
       "   'type': 'Strength',\n",
       "   'equipment': 'Body Only'},\n",
       "  {'name': 'Elevated Cable Rows',\n",
       "   'desc': 'The cable seated row is a popular exercise to train the muscles of the upper back, including the lats (latissimus dorsi), traps, rhomboids, and rear deltoids, using a cable stack. It also targets the biceps to a lesser degree. The cable row can work well in a variety of rep-ranges, but is most popular in muscle-building workouts or as an accessory movement for strength workouts.',\n",
       "   'target_muscle': 'Lats',\n",
       "   'level': 'Beginner',\n",
       "   'type': 'Strength',\n",
       "   'equipment': 'Cable'},\n",
       "  {'name': 'High knees sprawl drill',\n",
       "   'desc': 'The high knees sprawl drill is a full-body, cardio and strength-focused exercise. It can be performed for reps or time in a fast-paced circuit or other workout.',\n",
       "   'target_muscle': 'Quadriceps',\n",
       "   'level': 'Intermediate',\n",
       "   'type': 'Strength',\n",
       "   'equipment': 'Body Only'},\n",
       "  {'name': 'Pull-up',\n",
       "   'desc': 'The pull-up is a multijoint bodyweight exercise that builds strength and muscle in the upper back, biceps, and core. It is often used as a measurement tool in military or tactical fitness tests, and is an excellent gauge of \"relative strength\" which is strength in relation to body weight.',\n",
       "   'target_muscle': 'Lats',\n",
       "   'level': 'Beginner',\n",
       "   'type': 'Strength',\n",
       "   'equipment': 'Body Only'}],\n",
       " 'thursday': [{'name': 'High knees',\n",
       "   'desc': 'High knees is a full-body, cardio-based exercise with an emphasis on the lower body. It is often performed for reps or time as part of a dynamic warm-up.',\n",
       "   'target_muscle': 'Quadriceps',\n",
       "   'level': 'Intermediate',\n",
       "   'type': 'Cardio',\n",
       "   'equipment': 'Body Only'},\n",
       "  {'name': 'Stairmaster',\n",
       "   'desc': 'The stair climber is a popular cardio machine found in most commercial gyms. Along with burning a ton of calories, the stair climber also helps build strength in the lower body, especially the glutes. It can work well at higher speeds for interval-style conditioning training, but also works well at slower paces for steady-state cardio.',\n",
       "   'target_muscle': 'Quadriceps',\n",
       "   'level': 'Intermediate',\n",
       "   'type': 'Cardio',\n",
       "   'equipment': 'Machine'},\n",
       "  {'name': 'Stair climber',\n",
       "   'desc': 'The stair climber is a popular cardio machine found in most commercial gyms. Along with burning a ton of calories, the stair climber also helps build strength in the lower body, especially the glutes. It can work well at higher speeds for interval-style conditioning training, but also works well at slower paces for steady-state cardio.',\n",
       "   'target_muscle': 'Quadriceps',\n",
       "   'level': 'Intermediate',\n",
       "   'type': 'Cardio',\n",
       "   'equipment': 'Machine'},\n",
       "  {'name': 'Shadow boxing',\n",
       "   'desc': 'Shadow boxing is an exercise typically used in combat sports and fighting. However, it can also make a great cardio session for anyone to implement in a fast-paced circuit or as active rest. It is usually performed for time or rounds.',\n",
       "   'target_muscle': 'Shoulders',\n",
       "   'level': 'Intermediate',\n",
       "   'type': 'Cardio',\n",
       "   'equipment': 'Body Only'},\n",
       "  {'name': 'FYR Progressive High Knee',\n",
       "   'desc': 'High knees is a full-body, cardio-based exercise with an emphasis on the lower body. It is often performed for reps or time as part of a dynamic warm-up.',\n",
       "   'target_muscle': 'Glutes',\n",
       "   'level': 'Intermediate',\n",
       "   'type': 'Strength',\n",
       "   'equipment': 'Body Only'},\n",
       "  {'name': 'Leg Pull-In',\n",
       "   'desc': 'The reverse crunch is a popular exercise targeting the abdominals, particularly the lower half. It’s easy to perform on either the floor or a flat bench. Many lifters think of this as a companion to the crunch, which targets the upper abdominals more than the lower.',\n",
       "   'target_muscle': 'Abdominals',\n",
       "   'level': 'Beginner',\n",
       "   'type': 'Strength',\n",
       "   'equipment': 'Body Only'},\n",
       "  {'name': 'Cable reverse crunch',\n",
       "   'desc': 'The cable reverse crunch is performed on the ground facing away from a high pulley, which helps target the lower abdominals specifically.',\n",
       "   'target_muscle': 'Abdominals',\n",
       "   'level': 'Beginner',\n",
       "   'type': 'Strength',\n",
       "   'equipment': 'Cable'},\n",
       "  {'name': 'High knees sprawl drill',\n",
       "   'desc': 'The high knees sprawl drill is a full-body, cardio and strength-focused exercise. It can be performed for reps or time in a fast-paced circuit or other workout.',\n",
       "   'target_muscle': 'Quadriceps',\n",
       "   'level': 'Intermediate',\n",
       "   'type': 'Strength',\n",
       "   'equipment': 'Body Only'},\n",
       "  {'name': 'Stationary bike',\n",
       "   'desc': 'The stationary bike is a popular cardio machine found in most commercial gyms. Along with burning a ton of calories, the stationary bike also helps develop the lower body. Stationary bikes come in multiple variations, ranging from ones that resemble riding a bike, to recumbent bikes, to fan bikes that work both the arms and the legs. No matter the variation, a stationary bike can work well at higher speeds for interval-style conditioning training, but also works well at slower paces for steady-state cardio.',\n",
       "   'target_muscle': 'Quadriceps',\n",
       "   'level': 'Intermediate',\n",
       "   'type': 'Cardio',\n",
       "   'equipment': 'Machine'},\n",
       "  {'name': 'FYR Mountain Climber',\n",
       "   'desc': 'The mountain climber is a popular bodyweight exercise targeting the muscles of the core, as well as the shoulders, hips, and cardiovascular system. It involves lifting one knee to the chest at a time from a straight-arm plank position. It can be performed for time or reps as part of a dynamic warm-up, for bodyweight cardio or conditioning, or as no-equipment dynamic core training.',\n",
       "   'target_muscle': 'Abdominals',\n",
       "   'level': 'Intermediate',\n",
       "   'type': 'Strength',\n",
       "   'equipment': 'Body Only'}],\n",
       " 'friday': [{'name': 'High knees',\n",
       "   'desc': 'High knees is a full-body, cardio-based exercise with an emphasis on the lower body. It is often performed for reps or time as part of a dynamic warm-up.',\n",
       "   'target_muscle': 'Quadriceps',\n",
       "   'level': 'Intermediate',\n",
       "   'type': 'Cardio',\n",
       "   'equipment': 'Body Only'},\n",
       "  {'name': 'Leverage Chest Press',\n",
       "   'desc': 'The machine chest press is an upper body exercise targeting the pectoral muscles.',\n",
       "   'target_muscle': 'Chest',\n",
       "   'level': 'Beginner',\n",
       "   'type': 'Strength',\n",
       "   'equipment': 'Machine'},\n",
       "  {'name': 'Bodyweight Flyes',\n",
       "   'desc': 'The double-bar roll-out chest fly is a chest exercise that utilizes two rotating barbells as \"handles\" for a chest fly. It targets the muscles of the chest, but is also an intense core workout. It\\'s a tough movement that is usually performed in the chest-focused portion of a workout.',\n",
       "   'target_muscle': 'Chest',\n",
       "   'level': 'Beginner',\n",
       "   'type': 'Strength',\n",
       "   'equipment': 'E-Z Curl Bar'},\n",
       "  {'name': 'Stairmaster',\n",
       "   'desc': 'The stair climber is a popular cardio machine found in most commercial gyms. Along with burning a ton of calories, the stair climber also helps build strength in the lower body, especially the glutes. It can work well at higher speeds for interval-style conditioning training, but also works well at slower paces for steady-state cardio.',\n",
       "   'target_muscle': 'Quadriceps',\n",
       "   'level': 'Intermediate',\n",
       "   'type': 'Cardio',\n",
       "   'equipment': 'Machine'},\n",
       "  {'name': 'Stair climber',\n",
       "   'desc': 'The stair climber is a popular cardio machine found in most commercial gyms. Along with burning a ton of calories, the stair climber also helps build strength in the lower body, especially the glutes. It can work well at higher speeds for interval-style conditioning training, but also works well at slower paces for steady-state cardio.',\n",
       "   'target_muscle': 'Quadriceps',\n",
       "   'level': 'Intermediate',\n",
       "   'type': 'Cardio',\n",
       "   'equipment': 'Machine'},\n",
       "  {'name': 'Double-bar roll-out chest fly',\n",
       "   'desc': 'The double-bar roll-out chest fly is a chest exercise that utilizes two rotating barbells as \"handles\" for a chest fly. It targets the muscles of the chest, but is also an intense core workout. It\\'s a tough movement that is usually performed in the chest-focused portion of a workout.',\n",
       "   'target_muscle': 'Chest',\n",
       "   'level': 'Intermediate',\n",
       "   'type': 'Strength',\n",
       "   'equipment': 'Body Only'},\n",
       "  {'name': 'AM Chest Dips',\n",
       "   'desc': 'The chest dip is a chest-building exercise in which the lifter hangs between two parallel handles. Leaning the torso slightly forward shifts the emphasis from the triceps to the chest.',\n",
       "   'target_muscle': 'Chest',\n",
       "   'level': 'Intermediate',\n",
       "   'type': 'Strength',\n",
       "   'equipment': 'Body Only'},\n",
       "  {'name': 'Machine Seated Chest Press - Gethin Variation',\n",
       "   'desc': 'The machine chest press is an upper body exercise targeting the pectoral muscles.',\n",
       "   'target_muscle': 'Chest',\n",
       "   'level': 'Intermediate',\n",
       "   'type': 'Strength',\n",
       "   'equipment': 'Machine'},\n",
       "  {'name': 'Incline dumbbell chest fly',\n",
       "   'desc': 'The incline dumbbell chest fly is an upper-body exercise targeting the chest. Performing it at an incline helps to target the upper chest in particular, while limiting involvement of the shoulders. Fly variations are usually performed for moderate to high reps, such as 8-12 reps per set or more.',\n",
       "   'target_muscle': 'Chest',\n",
       "   'level': 'Intermediate',\n",
       "   'type': 'Strength',\n",
       "   'equipment': 'Dumbbell'},\n",
       "  {'name': 'Shadow boxing',\n",
       "   'desc': 'Shadow boxing is an exercise typically used in combat sports and fighting. However, it can also make a great cardio session for anyone to implement in a fast-paced circuit or as active rest. It is usually performed for time or rounds.',\n",
       "   'target_muscle': 'Shoulders',\n",
       "   'level': 'Intermediate',\n",
       "   'type': 'Cardio',\n",
       "   'equipment': 'Body Only'}],\n",
       " 'saturday': [{'name': 'High knees',\n",
       "   'desc': 'High knees is a full-body, cardio-based exercise with an emphasis on the lower body. It is often performed for reps or time as part of a dynamic warm-up.',\n",
       "   'target_muscle': 'Quadriceps',\n",
       "   'level': 'Intermediate',\n",
       "   'type': 'Cardio',\n",
       "   'equipment': 'Body Only'},\n",
       "  {'name': 'Stairmaster',\n",
       "   'desc': 'The stair climber is a popular cardio machine found in most commercial gyms. Along with burning a ton of calories, the stair climber also helps build strength in the lower body, especially the glutes. It can work well at higher speeds for interval-style conditioning training, but also works well at slower paces for steady-state cardio.',\n",
       "   'target_muscle': 'Quadriceps',\n",
       "   'level': 'Intermediate',\n",
       "   'type': 'Cardio',\n",
       "   'equipment': 'Machine'},\n",
       "  {'name': 'Stair climber',\n",
       "   'desc': 'The stair climber is a popular cardio machine found in most commercial gyms. Along with burning a ton of calories, the stair climber also helps build strength in the lower body, especially the glutes. It can work well at higher speeds for interval-style conditioning training, but also works well at slower paces for steady-state cardio.',\n",
       "   'target_muscle': 'Quadriceps',\n",
       "   'level': 'Intermediate',\n",
       "   'type': 'Cardio',\n",
       "   'equipment': 'Machine'},\n",
       "  {'name': 'Leverage High Row',\n",
       "   'desc': 'The machine high row is an exercise targeting the lats and works the back overall.',\n",
       "   'target_muscle': 'Middle Back',\n",
       "   'level': 'Beginner',\n",
       "   'type': 'Strength',\n",
       "   'equipment': 'Machine'},\n",
       "  {'name': 'Incline Dumbbell Row - Gethin Variation',\n",
       "   'desc': 'The incline dumbbell row is an upper body isolation exercise targeting the lower lats and upper back muscles.',\n",
       "   'target_muscle': 'Lats',\n",
       "   'level': 'Intermediate',\n",
       "   'type': 'Strength',\n",
       "   'equipment': 'Dumbbell'},\n",
       "  {'name': 'Shadow boxing',\n",
       "   'desc': 'Shadow boxing is an exercise typically used in combat sports and fighting. However, it can also make a great cardio session for anyone to implement in a fast-paced circuit or as active rest. It is usually performed for time or rounds.',\n",
       "   'target_muscle': 'Shoulders',\n",
       "   'level': 'Intermediate',\n",
       "   'type': 'Cardio',\n",
       "   'equipment': 'Body Only'},\n",
       "  {'name': 'FYR Progressive High Knee',\n",
       "   'desc': 'High knees is a full-body, cardio-based exercise with an emphasis on the lower body. It is often performed for reps or time as part of a dynamic warm-up.',\n",
       "   'target_muscle': 'Glutes',\n",
       "   'level': 'Intermediate',\n",
       "   'type': 'Strength',\n",
       "   'equipment': 'Body Only'},\n",
       "  {'name': 'Elevated Cable Rows',\n",
       "   'desc': 'The cable seated row is a popular exercise to train the muscles of the upper back, including the lats (latissimus dorsi), traps, rhomboids, and rear deltoids, using a cable stack. It also targets the biceps to a lesser degree. The cable row can work well in a variety of rep-ranges, but is most popular in muscle-building workouts or as an accessory movement for strength workouts.',\n",
       "   'target_muscle': 'Lats',\n",
       "   'level': 'Beginner',\n",
       "   'type': 'Strength',\n",
       "   'equipment': 'Cable'},\n",
       "  {'name': 'High knees sprawl drill',\n",
       "   'desc': 'The high knees sprawl drill is a full-body, cardio and strength-focused exercise. It can be performed for reps or time in a fast-paced circuit or other workout.',\n",
       "   'target_muscle': 'Quadriceps',\n",
       "   'level': 'Intermediate',\n",
       "   'type': 'Strength',\n",
       "   'equipment': 'Body Only'},\n",
       "  {'name': 'Pull-up',\n",
       "   'desc': 'The pull-up is a multijoint bodyweight exercise that builds strength and muscle in the upper back, biceps, and core. It is often used as a measurement tool in military or tactical fitness tests, and is an excellent gauge of \"relative strength\" which is strength in relation to body weight.',\n",
       "   'target_muscle': 'Lats',\n",
       "   'level': 'Beginner',\n",
       "   'type': 'Strength',\n",
       "   'equipment': 'Body Only'}],\n",
       " 'sunday': [{'name': 'High knees',\n",
       "   'desc': 'High knees is a full-body, cardio-based exercise with an emphasis on the lower body. It is often performed for reps or time as part of a dynamic warm-up.',\n",
       "   'target_muscle': 'Quadriceps',\n",
       "   'level': 'Intermediate',\n",
       "   'type': 'Cardio',\n",
       "   'equipment': 'Body Only'},\n",
       "  {'name': 'Stairmaster',\n",
       "   'desc': 'The stair climber is a popular cardio machine found in most commercial gyms. Along with burning a ton of calories, the stair climber also helps build strength in the lower body, especially the glutes. It can work well at higher speeds for interval-style conditioning training, but also works well at slower paces for steady-state cardio.',\n",
       "   'target_muscle': 'Quadriceps',\n",
       "   'level': 'Intermediate',\n",
       "   'type': 'Cardio',\n",
       "   'equipment': 'Machine'},\n",
       "  {'name': 'Stair climber',\n",
       "   'desc': 'The stair climber is a popular cardio machine found in most commercial gyms. Along with burning a ton of calories, the stair climber also helps build strength in the lower body, especially the glutes. It can work well at higher speeds for interval-style conditioning training, but also works well at slower paces for steady-state cardio.',\n",
       "   'target_muscle': 'Quadriceps',\n",
       "   'level': 'Intermediate',\n",
       "   'type': 'Cardio',\n",
       "   'equipment': 'Machine'},\n",
       "  {'name': 'Shadow boxing',\n",
       "   'desc': 'Shadow boxing is an exercise typically used in combat sports and fighting. However, it can also make a great cardio session for anyone to implement in a fast-paced circuit or as active rest. It is usually performed for time or rounds.',\n",
       "   'target_muscle': 'Shoulders',\n",
       "   'level': 'Intermediate',\n",
       "   'type': 'Cardio',\n",
       "   'equipment': 'Body Only'},\n",
       "  {'name': 'FYR Progressive High Knee',\n",
       "   'desc': 'High knees is a full-body, cardio-based exercise with an emphasis on the lower body. It is often performed for reps or time as part of a dynamic warm-up.',\n",
       "   'target_muscle': 'Glutes',\n",
       "   'level': 'Intermediate',\n",
       "   'type': 'Strength',\n",
       "   'equipment': 'Body Only'},\n",
       "  {'name': 'Leg Pull-In',\n",
       "   'desc': 'The reverse crunch is a popular exercise targeting the abdominals, particularly the lower half. It’s easy to perform on either the floor or a flat bench. Many lifters think of this as a companion to the crunch, which targets the upper abdominals more than the lower.',\n",
       "   'target_muscle': 'Abdominals',\n",
       "   'level': 'Beginner',\n",
       "   'type': 'Strength',\n",
       "   'equipment': 'Body Only'},\n",
       "  {'name': 'Cable reverse crunch',\n",
       "   'desc': 'The cable reverse crunch is performed on the ground facing away from a high pulley, which helps target the lower abdominals specifically.',\n",
       "   'target_muscle': 'Abdominals',\n",
       "   'level': 'Beginner',\n",
       "   'type': 'Strength',\n",
       "   'equipment': 'Cable'},\n",
       "  {'name': 'High knees sprawl drill',\n",
       "   'desc': 'The high knees sprawl drill is a full-body, cardio and strength-focused exercise. It can be performed for reps or time in a fast-paced circuit or other workout.',\n",
       "   'target_muscle': 'Quadriceps',\n",
       "   'level': 'Intermediate',\n",
       "   'type': 'Strength',\n",
       "   'equipment': 'Body Only'},\n",
       "  {'name': 'Stationary bike',\n",
       "   'desc': 'The stationary bike is a popular cardio machine found in most commercial gyms. Along with burning a ton of calories, the stationary bike also helps develop the lower body. Stationary bikes come in multiple variations, ranging from ones that resemble riding a bike, to recumbent bikes, to fan bikes that work both the arms and the legs. No matter the variation, a stationary bike can work well at higher speeds for interval-style conditioning training, but also works well at slower paces for steady-state cardio.',\n",
       "   'target_muscle': 'Quadriceps',\n",
       "   'level': 'Intermediate',\n",
       "   'type': 'Cardio',\n",
       "   'equipment': 'Machine'},\n",
       "  {'name': 'FYR Mountain Climber',\n",
       "   'desc': 'The mountain climber is a popular bodyweight exercise targeting the muscles of the core, as well as the shoulders, hips, and cardiovascular system. It involves lifting one knee to the chest at a time from a straight-arm plank position. It can be performed for time or reps as part of a dynamic warm-up, for bodyweight cardio or conditioning, or as no-equipment dynamic core training.',\n",
       "   'target_muscle': 'Abdominals',\n",
       "   'level': 'Intermediate',\n",
       "   'type': 'Strength',\n",
       "   'equipment': 'Body Only'}]}"
      ]
     },
     "execution_count": 143,
     "metadata": {},
     "output_type": "execute_result"
    }
   ],
   "source": [
    "#  Final Structuring of Output Format\n",
    "keys = [\"monday\",\"tuesday\",\"wednesday\",\"thursday\",\"friday\",\"saturday\",\"sunday\"]\n",
    "output_dict = {\"uid\":input_dict[\"uid\"]}\n",
    "for i,key in enumerate(keys):\n",
    "    output_dict[key] = output_list[i%l]\n",
    "output_dict"
   ]
  },
  {
   "cell_type": "code",
   "execution_count": 144,
   "metadata": {},
   "outputs": [],
   "source": [
    "# Converting to json\n",
    "with open('output.json','w') as json_file:\n",
    "    json.dump(output_dict,json_file,indent=2)"
   ]
  }
 ],
 "metadata": {
  "kernelspec": {
   "display_name": "Python 3",
   "language": "python",
   "name": "python3"
  },
  "language_info": {
   "codemirror_mode": {
    "name": "ipython",
    "version": 3
   },
   "file_extension": ".py",
   "mimetype": "text/x-python",
   "name": "python",
   "nbconvert_exporter": "python",
   "pygments_lexer": "ipython3",
   "version": "3.11.3"
  }
 },
 "nbformat": 4,
 "nbformat_minor": 2
}
